{
 "cells": [
  {
   "cell_type": "markdown",
   "id": "62e5090e-c6bb-4a5f-9920-007f3429eae3",
   "metadata": {},
   "source": [
    "It is a sample notebook for illustration purposes only. We recommend including the below cell with important candidate instructions.\n",
    "You may need to update the OS and package versions based on the current environment."
   ]
  },
  {
   "cell_type": "markdown",
   "id": "fd96a711-fffe-46d0-8dbd-7717067fe42c",
   "metadata": {
    "tags": []
   },
   "source": [
    "### Environment\n",
    "Ubuntu 22.04 LTS which includes **Python 3.9.12** and utilities *curl*, *git*, *vim*, *unzip*, *wget*, and *zip*. There is no *GPU* support.\n",
    "\n",
    "The IPython Kernel allows you to execute Python code in the Notebook cell and Python console.\n",
    "\n",
    "### Installing packages\n",
    "- Run `!mamba list \"package_name\"` command to check the package installation status. For example,\n",
    "\n",
    "```python\n",
    "!mamba list numpy\n",
    "\"\"\"\n",
    "# packages in environment at /opt/conda:\n",
    "#\n",
    "# Name                    Version                   Build  Channel\n",
    "numpy                     1.21.6           py39h18676bf_0    conda-forge\n",
    "\"\"\"\n",
    "```\n",
    "\n",
    "    You can also try importing the package.\n",
    "\n",
    "- Run the `!mamba install \"package_name\"` to install a package\n",
    "\n",
    "### Excluding large files\n",
    "HackerRank rejects any submission larger than **20MB**. Therefore, you must exclude any large files by adding these to the *.gitignore* file.\n",
    "You can **Submit** code to validate the status of your submission."
   ]
  },
  {
   "cell_type": "markdown",
   "id": "de14c970",
   "metadata": {},
   "source": [
    "## Introduction\n",
    "\n",
    "The Occupational Employment and Wage Statistics (OEWS) program produces employment and wage estimates annually for nearly 800 occupations. These estimates are available for the nation as a whole, for individual states, and for metropolitan and nonmetropolitan areas; national occupational estimates for specific industries are also available.\n",
    "\n",
    "## Problem\n",
    "\n",
    "The data used in this problem is a subset of the OEWS data, which include the 10-th percentile, 25-th percentile, 50-th percentile (a.k.a median), 75-th percentile, and 90-th percentile of the annual salary of a given combination of states, industries, and occupations.\n",
    "\n",
    "One needs to use the data in _train.csv_ to train a machine learning model to predict the 10-th, 25-th, 50-th, 75-th and 90-th percentiles of the given combinations in _submission.csv_.\n",
    "\n",
    "## Data\n",
    "\n",
    "### Independent Variables\n",
    "\n",
    "There are three independent variable columns:\n",
    "- PRIM_STATE\n",
    "- NAICS_TITLE\n",
    "- OCC_TITLE\n",
    "\n",
    "indicating the state, industry, and occupation.\n",
    "\n",
    "NOTE:\n",
    "- In the _PRIM_STATE_ variable, each category indicates a state postal abbreviation (like \"_CA_\", \"_TX_\", etc.) or \"_U.S_\" as the whole United States. When _PRIM_STATE_ is \"_U.S_\", it means the percentiles are aggregated across all the states.\n",
    "- In thes _NAICS_TITLE_, each category indicates an industry sector name (like \"_Retail Trade_\", \"_Manufacturing_\") or \"_Cross-industry_\". When _NAICS_TITLE_ is \"_Cross-industry_\", it means the percentiles are aggregated across all the industries.\n",
    "\n",
    "### Target Variables\n",
    "\n",
    "There are 5 dependent (target) variable columns:\n",
    "- A_PCT10\n",
    "- A_PCT25\n",
    "- A_MEDIAN\n",
    "- A_PCT75\n",
    "- A_PCT90\n",
    "\n",
    "indicating the 10-th percentile, 25-th percentile, median, 75-th percentile, 90-th percentile of the annual base salary given the state, industry, and occupation information.\n",
    "\n",
    "**IMPORTANT**: the percentiles should follow an increasing order. Namely, the 10-th percentile is less than (<) the 25-th percentile, the 25-th percentile is less than (<) the 50-th percentile, etc.\n",
    "\n",
    "## Deliverables\n",
    "\n",
    "### Submit a Well commented Jupyter Notebook\n",
    "\n",
    "Explore the data, make visualizations, and generate new features if required. Make appropriate plots, annotate the notebook with markdowns and explain necessary inferences. A person should be able to read the notebook and understand the steps taken as well as the reasoning behind them. The solution will be graded on the basis of the usage of effective visualizations to convey the analysis and the modeling process.\n",
    "\n",
    "\n",
    "### Submit _submission.csv_\n",
    "\n",
    "In the given _submission.csv_, values in the \"A_PCT10\", \"A_PCT25\", \"A_MEDIAN\", \"A_PCT75\", and \"A_PCT90\" columns are constants, and you need to replace them with your model predictions.\n",
    "\n",
    "**IMPORTANT**:\n",
    "- please do not change the header given in _submission.csv_, or your predictions may not be evaluated correctly.\n",
    "- Your Jupyter Notebook should be able to generate your submitted predictions.\n",
    "\n",
    "\n",
    "\n",
    "## Evaluation Metric\n",
    "\n",
    "The model performance is evaluated by the mean normalized weighted absolute error (MNWAE) defined as the following:\n",
    "$$ MNWAE = \\frac{1}{n} \\sum_{i=1}^{n} \\sum_{j \\in \\{10, 25, 50, 75, 90\\}} w_j \\times \\frac{|y_{i,j}-z_{i,j}|}{z_{i,j}}$$\n",
    "where $y_{i,j}$ and $z_{i,j}$ are the model estimation and the ground truth of the $i$-th row and $j$-th percentile, and\n",
    "$$ w_{10} = w_{90} = 0.1, $$\n",
    "$$ w_{25} = w_{75} = 0.2, $$\n",
    "$$ w_{50} = 0.4 $$\n",
    "\n",
    "For example, if\n",
    "\n",
    "actual percentiles = [10000, 30000, 60000, 80000, 100000],\n",
    "\n",
    "predicted percentiles = [11000, 33000, 54000, 88000, 120000],\n",
    "\n",
    "normalized weighted absolute error = 0.1*|11000-10000|/10000+0.2*|33000-30000|/30000+0.4*|54000-60000|/60000+0.2*|88000-80000|/80000+0.1*|120000-100000|/100000 = 0.11\n",
    "\n",
    "**IMPORTANT**: if the predicted percentiles in any row do not follow an increasing order, all the predictions will be considered as invalid."
   ]
  },
  {
   "cell_type": "markdown",
   "id": "19879c97",
   "metadata": {},
   "source": [
    "## Solution .."
   ]
  },
  {
   "cell_type": "code",
   "execution_count": 70,
   "id": "a107f167-f73a-4842-ba9b-7189e13a3a95",
   "metadata": {},
   "outputs": [],
   "source": [
    "# Import the `pandas` library to load the dataset\n",
    "import pandas as pd\n",
    "import numpy as np \n",
    "import seaborn as sns \n",
    "import matplotlib.pylab as plt\n",
    "%matplotlib inline\n",
    "from sklearn.preprocessing import StandardScaler\n",
    "from scipy.stats import norm\n",
    "from scipy import stats\n",
    "import warnings \n",
    "warnings.filterwarnings('ignore')"
   ]
  },
  {
   "cell_type": "code",
   "execution_count": 71,
   "id": "0f568cf6",
   "metadata": {},
   "outputs": [],
   "source": [
    "df_train = pd.read_csv('train.csv')"
   ]
  },
  {
   "cell_type": "code",
   "execution_count": 72,
   "id": "2558c27c-56e3-4e91-88fd-c2f57f37e63c",
   "metadata": {},
   "outputs": [
    {
     "data": {
      "text/html": [
       "<div>\n",
       "<style scoped>\n",
       "    .dataframe tbody tr th:only-of-type {\n",
       "        vertical-align: middle;\n",
       "    }\n",
       "\n",
       "    .dataframe tbody tr th {\n",
       "        vertical-align: top;\n",
       "    }\n",
       "\n",
       "    .dataframe thead th {\n",
       "        text-align: right;\n",
       "    }\n",
       "</style>\n",
       "<table border=\"1\" class=\"dataframe\">\n",
       "  <thead>\n",
       "    <tr style=\"text-align: right;\">\n",
       "      <th></th>\n",
       "      <th>PRIM_STATE</th>\n",
       "      <th>NAICS_TITLE</th>\n",
       "      <th>OCC_TITLE</th>\n",
       "      <th>A_PCT10</th>\n",
       "      <th>A_PCT25</th>\n",
       "      <th>A_MEDIAN</th>\n",
       "      <th>A_PCT75</th>\n",
       "      <th>A_PCT90</th>\n",
       "    </tr>\n",
       "  </thead>\n",
       "  <tbody>\n",
       "    <tr>\n",
       "      <th>0</th>\n",
       "      <td>US</td>\n",
       "      <td>Arts, Entertainment, and Recreation</td>\n",
       "      <td>Supervisors of Transportation and Material Mov...</td>\n",
       "      <td>32350.0</td>\n",
       "      <td>40200.0</td>\n",
       "      <td>50790.0</td>\n",
       "      <td>62560.0</td>\n",
       "      <td>78520.0</td>\n",
       "    </tr>\n",
       "    <tr>\n",
       "      <th>1</th>\n",
       "      <td>US</td>\n",
       "      <td>Mining, Quarrying, and Oil and Gas Extraction</td>\n",
       "      <td>Sales Representatives, Wholesale and Manufactu...</td>\n",
       "      <td>47860.0</td>\n",
       "      <td>61600.0</td>\n",
       "      <td>87810.0</td>\n",
       "      <td>107460.0</td>\n",
       "      <td>153600.0</td>\n",
       "    </tr>\n",
       "    <tr>\n",
       "      <th>2</th>\n",
       "      <td>US</td>\n",
       "      <td>Finance and Insurance</td>\n",
       "      <td>Physical Scientists</td>\n",
       "      <td>59240.0</td>\n",
       "      <td>63050.0</td>\n",
       "      <td>89740.0</td>\n",
       "      <td>126320.0</td>\n",
       "      <td>149070.0</td>\n",
       "    </tr>\n",
       "    <tr>\n",
       "      <th>3</th>\n",
       "      <td>US</td>\n",
       "      <td>Administrative and Support and Waste Managemen...</td>\n",
       "      <td>Architects, Surveyors, and Cartographers</td>\n",
       "      <td>37320.0</td>\n",
       "      <td>47630.0</td>\n",
       "      <td>60550.0</td>\n",
       "      <td>77450.0</td>\n",
       "      <td>98990.0</td>\n",
       "    </tr>\n",
       "    <tr>\n",
       "      <th>4</th>\n",
       "      <td>US</td>\n",
       "      <td>Manufacturing</td>\n",
       "      <td>Supervisors of Protective Service Workers</td>\n",
       "      <td>50130.0</td>\n",
       "      <td>63840.0</td>\n",
       "      <td>81770.0</td>\n",
       "      <td>104530.0</td>\n",
       "      <td>133180.0</td>\n",
       "    </tr>\n",
       "    <tr>\n",
       "      <th>...</th>\n",
       "      <td>...</td>\n",
       "      <td>...</td>\n",
       "      <td>...</td>\n",
       "      <td>...</td>\n",
       "      <td>...</td>\n",
       "      <td>...</td>\n",
       "      <td>...</td>\n",
       "      <td>...</td>\n",
       "    </tr>\n",
       "    <tr>\n",
       "      <th>2292</th>\n",
       "      <td>NJ</td>\n",
       "      <td>Cross-industry</td>\n",
       "      <td>Legal Occupations</td>\n",
       "      <td>47950.0</td>\n",
       "      <td>73720.0</td>\n",
       "      <td>101550.0</td>\n",
       "      <td>163990.0</td>\n",
       "      <td>NaN</td>\n",
       "    </tr>\n",
       "    <tr>\n",
       "      <th>2293</th>\n",
       "      <td>NY</td>\n",
       "      <td>Cross-industry</td>\n",
       "      <td>Legal Occupations</td>\n",
       "      <td>47580.0</td>\n",
       "      <td>75920.0</td>\n",
       "      <td>126220.0</td>\n",
       "      <td>NaN</td>\n",
       "      <td>NaN</td>\n",
       "    </tr>\n",
       "    <tr>\n",
       "      <th>2294</th>\n",
       "      <td>RI</td>\n",
       "      <td>Cross-industry</td>\n",
       "      <td>Legal Occupations</td>\n",
       "      <td>46400.0</td>\n",
       "      <td>60560.0</td>\n",
       "      <td>98070.0</td>\n",
       "      <td>161120.0</td>\n",
       "      <td>NaN</td>\n",
       "    </tr>\n",
       "    <tr>\n",
       "      <th>2295</th>\n",
       "      <td>TX</td>\n",
       "      <td>Cross-industry</td>\n",
       "      <td>Legal Occupations</td>\n",
       "      <td>37540.0</td>\n",
       "      <td>51260.0</td>\n",
       "      <td>80850.0</td>\n",
       "      <td>135490.0</td>\n",
       "      <td>NaN</td>\n",
       "    </tr>\n",
       "    <tr>\n",
       "      <th>2296</th>\n",
       "      <td>NJ</td>\n",
       "      <td>Cross-industry</td>\n",
       "      <td>Healthcare Practitioners and Technical Occupat...</td>\n",
       "      <td>46750.0</td>\n",
       "      <td>61680.0</td>\n",
       "      <td>80130.0</td>\n",
       "      <td>119690.0</td>\n",
       "      <td>NaN</td>\n",
       "    </tr>\n",
       "  </tbody>\n",
       "</table>\n",
       "<p>2297 rows × 8 columns</p>\n",
       "</div>"
      ],
      "text/plain": [
       "     PRIM_STATE                                        NAICS_TITLE  \\\n",
       "0            US                Arts, Entertainment, and Recreation   \n",
       "1            US      Mining, Quarrying, and Oil and Gas Extraction   \n",
       "2            US                              Finance and Insurance   \n",
       "3            US  Administrative and Support and Waste Managemen...   \n",
       "4            US                                      Manufacturing   \n",
       "...         ...                                                ...   \n",
       "2292         NJ                                     Cross-industry   \n",
       "2293         NY                                     Cross-industry   \n",
       "2294         RI                                     Cross-industry   \n",
       "2295         TX                                     Cross-industry   \n",
       "2296         NJ                                     Cross-industry   \n",
       "\n",
       "                                              OCC_TITLE  A_PCT10  A_PCT25  \\\n",
       "0     Supervisors of Transportation and Material Mov...  32350.0  40200.0   \n",
       "1     Sales Representatives, Wholesale and Manufactu...  47860.0  61600.0   \n",
       "2                                   Physical Scientists  59240.0  63050.0   \n",
       "3              Architects, Surveyors, and Cartographers  37320.0  47630.0   \n",
       "4             Supervisors of Protective Service Workers  50130.0  63840.0   \n",
       "...                                                 ...      ...      ...   \n",
       "2292                                  Legal Occupations  47950.0  73720.0   \n",
       "2293                                  Legal Occupations  47580.0  75920.0   \n",
       "2294                                  Legal Occupations  46400.0  60560.0   \n",
       "2295                                  Legal Occupations  37540.0  51260.0   \n",
       "2296  Healthcare Practitioners and Technical Occupat...  46750.0  61680.0   \n",
       "\n",
       "      A_MEDIAN   A_PCT75   A_PCT90  \n",
       "0      50790.0   62560.0   78520.0  \n",
       "1      87810.0  107460.0  153600.0  \n",
       "2      89740.0  126320.0  149070.0  \n",
       "3      60550.0   77450.0   98990.0  \n",
       "4      81770.0  104530.0  133180.0  \n",
       "...        ...       ...       ...  \n",
       "2292  101550.0  163990.0       NaN  \n",
       "2293  126220.0       NaN       NaN  \n",
       "2294   98070.0  161120.0       NaN  \n",
       "2295   80850.0  135490.0       NaN  \n",
       "2296   80130.0  119690.0       NaN  \n",
       "\n",
       "[2297 rows x 8 columns]"
      ]
     },
     "execution_count": 72,
     "metadata": {},
     "output_type": "execute_result"
    }
   ],
   "source": [
    "df_train"
   ]
  },
  {
   "cell_type": "code",
   "execution_count": 73,
   "id": "99155580-d5f9-41b5-a65d-c8d75cdab600",
   "metadata": {},
   "outputs": [
    {
     "data": {
      "text/plain": [
       "72875.8579620644"
      ]
     },
     "execution_count": 73,
     "metadata": {},
     "output_type": "execute_result"
    }
   ],
   "source": [
    "df_train['A_PCT75'].mean()"
   ]
  },
  {
   "cell_type": "code",
   "execution_count": 74,
   "id": "83cc9151-b8fe-4899-b6ba-9eb145e33205",
   "metadata": {},
   "outputs": [
    {
     "data": {
      "text/plain": [
       "87937.31232622798"
      ]
     },
     "execution_count": 74,
     "metadata": {},
     "output_type": "execute_result"
    }
   ],
   "source": [
    "df_train['A_PCT90'].mean()"
   ]
  },
  {
   "cell_type": "code",
   "execution_count": 75,
   "id": "8f171ad8-ad88-4538-8bcf-325c4344b21d",
   "metadata": {},
   "outputs": [],
   "source": [
    "df_train = df_train.fillna({'A_PCT75':72875.8579620644, 'A_PCT90':87937.31232622798})"
   ]
  },
  {
   "cell_type": "code",
   "execution_count": 76,
   "id": "75281bdb-1251-4158-b8e7-80cecdc4b3c9",
   "metadata": {},
   "outputs": [
    {
     "data": {
      "text/plain": [
       "PRIM_STATE     0\n",
       "NAICS_TITLE    0\n",
       "OCC_TITLE      0\n",
       "A_PCT10        0\n",
       "A_PCT25        0\n",
       "A_MEDIAN       0\n",
       "A_PCT75        0\n",
       "A_PCT90        0\n",
       "dtype: int64"
      ]
     },
     "execution_count": 76,
     "metadata": {},
     "output_type": "execute_result"
    }
   ],
   "source": [
    "df_train.isna().sum()"
   ]
  },
  {
   "cell_type": "code",
   "execution_count": 77,
   "id": "36b3f0b9-2ece-4f23-a3b9-08df349d4508",
   "metadata": {},
   "outputs": [
    {
     "data": {
      "text/plain": [
       "Text(0.5, 1.0, 'Total Missing Values')"
      ]
     },
     "execution_count": 77,
     "metadata": {},
     "output_type": "execute_result"
    },
    {
     "data": {
      "image/png": "[encoded data removed]",
      "text/plain": [
       "<Figure size 576x432 with 1 Axes>"
      ]
     },
     "metadata": {
      "needs_background": "light"
     },
     "output_type": "display_data"
    }
   ],
   "source": [
    "total = df_train.isnull().sum().sort_values(ascending=False)\n",
    "total_select = total.head(20)\n",
    "total_select.plot(kind=\"bar\", figsize = (8,6), fontsize = 10)\n",
    "\n",
    "plt.xlabel(\"Columns\", fontsize = 20)\n",
    "plt.ylabel(\"Count\", fontsize = 20)\n",
    "plt.title(\"Total Missing Values\", fontsize = 20)"
   ]
  },
  {
   "cell_type": "code",
   "execution_count": 78,
   "id": "ed13254e-52a0-40f0-8976-050d138cfae1",
   "metadata": {},
   "outputs": [],
   "source": [
    "df_train = pd.get_dummies(data=df_train, columns = ['PRIM_STATE'])"
   ]
  },
  {
   "cell_type": "code",
   "execution_count": 79,
   "id": "b40c59fe-a5f6-46b9-a4a5-9908bb354458",
   "metadata": {},
   "outputs": [
    {
     "data": {
      "text/html": [
       "<div>\n",
       "<style scoped>\n",
       "    .dataframe tbody tr th:only-of-type {\n",
       "        vertical-align: middle;\n",
       "    }\n",
       "\n",
       "    .dataframe tbody tr th {\n",
       "        vertical-align: top;\n",
       "    }\n",
       "\n",
       "    .dataframe thead th {\n",
       "        text-align: right;\n",
       "    }\n",
       "</style>\n",
       "<table border=\"1\" class=\"dataframe\">\n",
       "  <thead>\n",
       "    <tr style=\"text-align: right;\">\n",
       "      <th></th>\n",
       "      <th>NAICS_TITLE</th>\n",
       "      <th>OCC_TITLE</th>\n",
       "      <th>A_PCT10</th>\n",
       "      <th>A_PCT25</th>\n",
       "      <th>A_MEDIAN</th>\n",
       "      <th>A_PCT75</th>\n",
       "      <th>A_PCT90</th>\n",
       "      <th>PRIM_STATE_AK</th>\n",
       "      <th>PRIM_STATE_AL</th>\n",
       "      <th>PRIM_STATE_AR</th>\n",
       "      <th>...</th>\n",
       "      <th>PRIM_STATE_TN</th>\n",
       "      <th>PRIM_STATE_TX</th>\n",
       "      <th>PRIM_STATE_US</th>\n",
       "      <th>PRIM_STATE_UT</th>\n",
       "      <th>PRIM_STATE_VA</th>\n",
       "      <th>PRIM_STATE_VT</th>\n",
       "      <th>PRIM_STATE_WA</th>\n",
       "      <th>PRIM_STATE_WI</th>\n",
       "      <th>PRIM_STATE_WV</th>\n",
       "      <th>PRIM_STATE_WY</th>\n",
       "    </tr>\n",
       "  </thead>\n",
       "  <tbody>\n",
       "    <tr>\n",
       "      <th>0</th>\n",
       "      <td>Arts, Entertainment, and Recreation</td>\n",
       "      <td>Supervisors of Transportation and Material Mov...</td>\n",
       "      <td>32350.0</td>\n",
       "      <td>40200.0</td>\n",
       "      <td>50790.0</td>\n",
       "      <td>62560.000000</td>\n",
       "      <td>78520.000000</td>\n",
       "      <td>0</td>\n",
       "      <td>0</td>\n",
       "      <td>0</td>\n",
       "      <td>...</td>\n",
       "      <td>0</td>\n",
       "      <td>0</td>\n",
       "      <td>1</td>\n",
       "      <td>0</td>\n",
       "      <td>0</td>\n",
       "      <td>0</td>\n",
       "      <td>0</td>\n",
       "      <td>0</td>\n",
       "      <td>0</td>\n",
       "      <td>0</td>\n",
       "    </tr>\n",
       "    <tr>\n",
       "      <th>1</th>\n",
       "      <td>Mining, Quarrying, and Oil and Gas Extraction</td>\n",
       "      <td>Sales Representatives, Wholesale and Manufactu...</td>\n",
       "      <td>47860.0</td>\n",
       "      <td>61600.0</td>\n",
       "      <td>87810.0</td>\n",
       "      <td>107460.000000</td>\n",
       "      <td>153600.000000</td>\n",
       "      <td>0</td>\n",
       "      <td>0</td>\n",
       "      <td>0</td>\n",
       "      <td>...</td>\n",
       "      <td>0</td>\n",
       "      <td>0</td>\n",
       "      <td>1</td>\n",
       "      <td>0</td>\n",
       "      <td>0</td>\n",
       "      <td>0</td>\n",
       "      <td>0</td>\n",
       "      <td>0</td>\n",
       "      <td>0</td>\n",
       "      <td>0</td>\n",
       "    </tr>\n",
       "    <tr>\n",
       "      <th>2</th>\n",
       "      <td>Finance and Insurance</td>\n",
       "      <td>Physical Scientists</td>\n",
       "      <td>59240.0</td>\n",
       "      <td>63050.0</td>\n",
       "      <td>89740.0</td>\n",
       "      <td>126320.000000</td>\n",
       "      <td>149070.000000</td>\n",
       "      <td>0</td>\n",
       "      <td>0</td>\n",
       "      <td>0</td>\n",
       "      <td>...</td>\n",
       "      <td>0</td>\n",
       "      <td>0</td>\n",
       "      <td>1</td>\n",
       "      <td>0</td>\n",
       "      <td>0</td>\n",
       "      <td>0</td>\n",
       "      <td>0</td>\n",
       "      <td>0</td>\n",
       "      <td>0</td>\n",
       "      <td>0</td>\n",
       "    </tr>\n",
       "    <tr>\n",
       "      <th>3</th>\n",
       "      <td>Administrative and Support and Waste Managemen...</td>\n",
       "      <td>Architects, Surveyors, and Cartographers</td>\n",
       "      <td>37320.0</td>\n",
       "      <td>47630.0</td>\n",
       "      <td>60550.0</td>\n",
       "      <td>77450.000000</td>\n",
       "      <td>98990.000000</td>\n",
       "      <td>0</td>\n",
       "      <td>0</td>\n",
       "      <td>0</td>\n",
       "      <td>...</td>\n",
       "      <td>0</td>\n",
       "      <td>0</td>\n",
       "      <td>1</td>\n",
       "      <td>0</td>\n",
       "      <td>0</td>\n",
       "      <td>0</td>\n",
       "      <td>0</td>\n",
       "      <td>0</td>\n",
       "      <td>0</td>\n",
       "      <td>0</td>\n",
       "    </tr>\n",
       "    <tr>\n",
       "      <th>4</th>\n",
       "      <td>Manufacturing</td>\n",
       "      <td>Supervisors of Protective Service Workers</td>\n",
       "      <td>50130.0</td>\n",
       "      <td>63840.0</td>\n",
       "      <td>81770.0</td>\n",
       "      <td>104530.000000</td>\n",
       "      <td>133180.000000</td>\n",
       "      <td>0</td>\n",
       "      <td>0</td>\n",
       "      <td>0</td>\n",
       "      <td>...</td>\n",
       "      <td>0</td>\n",
       "      <td>0</td>\n",
       "      <td>1</td>\n",
       "      <td>0</td>\n",
       "      <td>0</td>\n",
       "      <td>0</td>\n",
       "      <td>0</td>\n",
       "      <td>0</td>\n",
       "      <td>0</td>\n",
       "      <td>0</td>\n",
       "    </tr>\n",
       "    <tr>\n",
       "      <th>...</th>\n",
       "      <td>...</td>\n",
       "      <td>...</td>\n",
       "      <td>...</td>\n",
       "      <td>...</td>\n",
       "      <td>...</td>\n",
       "      <td>...</td>\n",
       "      <td>...</td>\n",
       "      <td>...</td>\n",
       "      <td>...</td>\n",
       "      <td>...</td>\n",
       "      <td>...</td>\n",
       "      <td>...</td>\n",
       "      <td>...</td>\n",
       "      <td>...</td>\n",
       "      <td>...</td>\n",
       "      <td>...</td>\n",
       "      <td>...</td>\n",
       "      <td>...</td>\n",
       "      <td>...</td>\n",
       "      <td>...</td>\n",
       "      <td>...</td>\n",
       "    </tr>\n",
       "    <tr>\n",
       "      <th>2292</th>\n",
       "      <td>Cross-industry</td>\n",
       "      <td>Legal Occupations</td>\n",
       "      <td>47950.0</td>\n",
       "      <td>73720.0</td>\n",
       "      <td>101550.0</td>\n",
       "      <td>163990.000000</td>\n",
       "      <td>87937.312326</td>\n",
       "      <td>0</td>\n",
       "      <td>0</td>\n",
       "      <td>0</td>\n",
       "      <td>...</td>\n",
       "      <td>0</td>\n",
       "      <td>0</td>\n",
       "      <td>0</td>\n",
       "      <td>0</td>\n",
       "      <td>0</td>\n",
       "      <td>0</td>\n",
       "      <td>0</td>\n",
       "      <td>0</td>\n",
       "      <td>0</td>\n",
       "      <td>0</td>\n",
       "    </tr>\n",
       "    <tr>\n",
       "      <th>2293</th>\n",
       "      <td>Cross-industry</td>\n",
       "      <td>Legal Occupations</td>\n",
       "      <td>47580.0</td>\n",
       "      <td>75920.0</td>\n",
       "      <td>126220.0</td>\n",
       "      <td>72875.857962</td>\n",
       "      <td>87937.312326</td>\n",
       "      <td>0</td>\n",
       "      <td>0</td>\n",
       "      <td>0</td>\n",
       "      <td>...</td>\n",
       "      <td>0</td>\n",
       "      <td>0</td>\n",
       "      <td>0</td>\n",
       "      <td>0</td>\n",
       "      <td>0</td>\n",
       "      <td>0</td>\n",
       "      <td>0</td>\n",
       "      <td>0</td>\n",
       "      <td>0</td>\n",
       "      <td>0</td>\n",
       "    </tr>\n",
       "    <tr>\n",
       "      <th>2294</th>\n",
       "      <td>Cross-industry</td>\n",
       "      <td>Legal Occupations</td>\n",
       "      <td>46400.0</td>\n",
       "      <td>60560.0</td>\n",
       "      <td>98070.0</td>\n",
       "      <td>161120.000000</td>\n",
       "      <td>87937.312326</td>\n",
       "      <td>0</td>\n",
       "      <td>0</td>\n",
       "      <td>0</td>\n",
       "      <td>...</td>\n",
       "      <td>0</td>\n",
       "      <td>0</td>\n",
       "      <td>0</td>\n",
       "      <td>0</td>\n",
       "      <td>0</td>\n",
       "      <td>0</td>\n",
       "      <td>0</td>\n",
       "      <td>0</td>\n",
       "      <td>0</td>\n",
       "      <td>0</td>\n",
       "    </tr>\n",
       "    <tr>\n",
       "      <th>2295</th>\n",
       "      <td>Cross-industry</td>\n",
       "      <td>Legal Occupations</td>\n",
       "      <td>37540.0</td>\n",
       "      <td>51260.0</td>\n",
       "      <td>80850.0</td>\n",
       "      <td>135490.000000</td>\n",
       "      <td>87937.312326</td>\n",
       "      <td>0</td>\n",
       "      <td>0</td>\n",
       "      <td>0</td>\n",
       "      <td>...</td>\n",
       "      <td>0</td>\n",
       "      <td>1</td>\n",
       "      <td>0</td>\n",
       "      <td>0</td>\n",
       "      <td>0</td>\n",
       "      <td>0</td>\n",
       "      <td>0</td>\n",
       "      <td>0</td>\n",
       "      <td>0</td>\n",
       "      <td>0</td>\n",
       "    </tr>\n",
       "    <tr>\n",
       "      <th>2296</th>\n",
       "      <td>Cross-industry</td>\n",
       "      <td>Healthcare Practitioners and Technical Occupat...</td>\n",
       "      <td>46750.0</td>\n",
       "      <td>61680.0</td>\n",
       "      <td>80130.0</td>\n",
       "      <td>119690.000000</td>\n",
       "      <td>87937.312326</td>\n",
       "      <td>0</td>\n",
       "      <td>0</td>\n",
       "      <td>0</td>\n",
       "      <td>...</td>\n",
       "      <td>0</td>\n",
       "      <td>0</td>\n",
       "      <td>0</td>\n",
       "      <td>0</td>\n",
       "      <td>0</td>\n",
       "      <td>0</td>\n",
       "      <td>0</td>\n",
       "      <td>0</td>\n",
       "      <td>0</td>\n",
       "      <td>0</td>\n",
       "    </tr>\n",
       "  </tbody>\n",
       "</table>\n",
       "<p>2297 rows × 59 columns</p>\n",
       "</div>"
      ],
      "text/plain": [
       "                                            NAICS_TITLE  \\\n",
       "0                   Arts, Entertainment, and Recreation   \n",
       "1         Mining, Quarrying, and Oil and Gas Extraction   \n",
       "2                                 Finance and Insurance   \n",
       "3     Administrative and Support and Waste Managemen...   \n",
       "4                                         Manufacturing   \n",
       "...                                                 ...   \n",
       "2292                                     Cross-industry   \n",
       "2293                                     Cross-industry   \n",
       "2294                                     Cross-industry   \n",
       "2295                                     Cross-industry   \n",
       "2296                                     Cross-industry   \n",
       "\n",
       "                                              OCC_TITLE  A_PCT10  A_PCT25  \\\n",
       "0     Supervisors of Transportation and Material Mov...  32350.0  40200.0   \n",
       "1     Sales Representatives, Wholesale and Manufactu...  47860.0  61600.0   \n",
       "2                                   Physical Scientists  59240.0  63050.0   \n",
       "3              Architects, Surveyors, and Cartographers  37320.0  47630.0   \n",
       "4             Supervisors of Protective Service Workers  50130.0  63840.0   \n",
       "...                                                 ...      ...      ...   \n",
       "2292                                  Legal Occupations  47950.0  73720.0   \n",
       "2293                                  Legal Occupations  47580.0  75920.0   \n",
       "2294                                  Legal Occupations  46400.0  60560.0   \n",
       "2295                                  Legal Occupations  37540.0  51260.0   \n",
       "2296  Healthcare Practitioners and Technical Occupat...  46750.0  61680.0   \n",
       "\n",
       "      A_MEDIAN        A_PCT75        A_PCT90  PRIM_STATE_AK  PRIM_STATE_AL  \\\n",
       "0      50790.0   62560.000000   78520.000000              0              0   \n",
       "1      87810.0  107460.000000  153600.000000              0              0   \n",
       "2      89740.0  126320.000000  149070.000000              0              0   \n",
       "3      60550.0   77450.000000   98990.000000              0              0   \n",
       "4      81770.0  104530.000000  133180.000000              0              0   \n",
       "...        ...            ...            ...            ...            ...   \n",
       "2292  101550.0  163990.000000   87937.312326              0              0   \n",
       "2293  126220.0   72875.857962   87937.312326              0              0   \n",
       "2294   98070.0  161120.000000   87937.312326              0              0   \n",
       "2295   80850.0  135490.000000   87937.312326              0              0   \n",
       "2296   80130.0  119690.000000   87937.312326              0              0   \n",
       "\n",
       "      PRIM_STATE_AR  ...  PRIM_STATE_TN  PRIM_STATE_TX  PRIM_STATE_US  \\\n",
       "0                 0  ...              0              0              1   \n",
       "1                 0  ...              0              0              1   \n",
       "2                 0  ...              0              0              1   \n",
       "3                 0  ...              0              0              1   \n",
       "4                 0  ...              0              0              1   \n",
       "...             ...  ...            ...            ...            ...   \n",
       "2292              0  ...              0              0              0   \n",
       "2293              0  ...              0              0              0   \n",
       "2294              0  ...              0              0              0   \n",
       "2295              0  ...              0              1              0   \n",
       "2296              0  ...              0              0              0   \n",
       "\n",
       "      PRIM_STATE_UT  PRIM_STATE_VA  PRIM_STATE_VT  PRIM_STATE_WA  \\\n",
       "0                 0              0              0              0   \n",
       "1                 0              0              0              0   \n",
       "2                 0              0              0              0   \n",
       "3                 0              0              0              0   \n",
       "4                 0              0              0              0   \n",
       "...             ...            ...            ...            ...   \n",
       "2292              0              0              0              0   \n",
       "2293              0              0              0              0   \n",
       "2294              0              0              0              0   \n",
       "2295              0              0              0              0   \n",
       "2296              0              0              0              0   \n",
       "\n",
       "      PRIM_STATE_WI  PRIM_STATE_WV  PRIM_STATE_WY  \n",
       "0                 0              0              0  \n",
       "1                 0              0              0  \n",
       "2                 0              0              0  \n",
       "3                 0              0              0  \n",
       "4                 0              0              0  \n",
       "...             ...            ...            ...  \n",
       "2292              0              0              0  \n",
       "2293              0              0              0  \n",
       "2294              0              0              0  \n",
       "2295              0              0              0  \n",
       "2296              0              0              0  \n",
       "\n",
       "[2297 rows x 59 columns]"
      ]
     },
     "execution_count": 79,
     "metadata": {},
     "output_type": "execute_result"
    }
   ],
   "source": [
    "df_train"
   ]
  },
  {
   "cell_type": "code",
   "execution_count": 80,
   "id": "bc79784c-66c8-4df6-b122-ea7f4e26c142",
   "metadata": {},
   "outputs": [
    {
     "name": "stdout",
     "output_type": "stream",
     "text": [
      "(2297, 65)\n",
      "(2297, 175)\n"
     ]
    },
    {
     "data": {
      "text/html": [
       "<div>\n",
       "<style scoped>\n",
       "    .dataframe tbody tr th:only-of-type {\n",
       "        vertical-align: middle;\n",
       "    }\n",
       "\n",
       "    .dataframe tbody tr th {\n",
       "        vertical-align: top;\n",
       "    }\n",
       "\n",
       "    .dataframe thead th {\n",
       "        text-align: right;\n",
       "    }\n",
       "</style>\n",
       "<table border=\"1\" class=\"dataframe\">\n",
       "  <thead>\n",
       "    <tr style=\"text-align: right;\">\n",
       "      <th></th>\n",
       "      <th>word1</th>\n",
       "      <th>word2</th>\n",
       "      <th>word3</th>\n",
       "      <th>word4</th>\n",
       "      <th>word5</th>\n",
       "      <th>word6</th>\n",
       "      <th>word7</th>\n",
       "      <th>word8</th>\n",
       "      <th>word9</th>\n",
       "      <th>word10</th>\n",
       "      <th>...</th>\n",
       "      <th>PRIM_STATE_VT</th>\n",
       "      <th>PRIM_STATE_WA</th>\n",
       "      <th>PRIM_STATE_WI</th>\n",
       "      <th>PRIM_STATE_WV</th>\n",
       "      <th>PRIM_STATE_WY</th>\n",
       "      <th>A_PCT10</th>\n",
       "      <th>A_PCT25</th>\n",
       "      <th>A_MEDIAN</th>\n",
       "      <th>A_PCT75</th>\n",
       "      <th>A_PCT90</th>\n",
       "    </tr>\n",
       "  </thead>\n",
       "  <tbody>\n",
       "    <tr>\n",
       "      <th>0</th>\n",
       "      <td>0.0</td>\n",
       "      <td>0.0</td>\n",
       "      <td>0.000000</td>\n",
       "      <td>0.0</td>\n",
       "      <td>0.256234</td>\n",
       "      <td>0.558075</td>\n",
       "      <td>0.0</td>\n",
       "      <td>0.0</td>\n",
       "      <td>0.0</td>\n",
       "      <td>0.0</td>\n",
       "      <td>...</td>\n",
       "      <td>0</td>\n",
       "      <td>0</td>\n",
       "      <td>0</td>\n",
       "      <td>0</td>\n",
       "      <td>0</td>\n",
       "      <td>32350.0</td>\n",
       "      <td>40200.0</td>\n",
       "      <td>50790.0</td>\n",
       "      <td>62560.000000</td>\n",
       "      <td>78520.000000</td>\n",
       "    </tr>\n",
       "    <tr>\n",
       "      <th>1</th>\n",
       "      <td>0.0</td>\n",
       "      <td>0.0</td>\n",
       "      <td>0.000000</td>\n",
       "      <td>0.0</td>\n",
       "      <td>0.350251</td>\n",
       "      <td>0.000000</td>\n",
       "      <td>0.0</td>\n",
       "      <td>0.0</td>\n",
       "      <td>0.0</td>\n",
       "      <td>0.0</td>\n",
       "      <td>...</td>\n",
       "      <td>0</td>\n",
       "      <td>0</td>\n",
       "      <td>0</td>\n",
       "      <td>0</td>\n",
       "      <td>0</td>\n",
       "      <td>47860.0</td>\n",
       "      <td>61600.0</td>\n",
       "      <td>87810.0</td>\n",
       "      <td>107460.000000</td>\n",
       "      <td>153600.000000</td>\n",
       "    </tr>\n",
       "    <tr>\n",
       "      <th>2</th>\n",
       "      <td>0.0</td>\n",
       "      <td>0.0</td>\n",
       "      <td>0.000000</td>\n",
       "      <td>0.0</td>\n",
       "      <td>0.304582</td>\n",
       "      <td>0.000000</td>\n",
       "      <td>0.0</td>\n",
       "      <td>0.0</td>\n",
       "      <td>0.0</td>\n",
       "      <td>0.0</td>\n",
       "      <td>...</td>\n",
       "      <td>0</td>\n",
       "      <td>0</td>\n",
       "      <td>0</td>\n",
       "      <td>0</td>\n",
       "      <td>0</td>\n",
       "      <td>59240.0</td>\n",
       "      <td>63050.0</td>\n",
       "      <td>89740.0</td>\n",
       "      <td>126320.000000</td>\n",
       "      <td>149070.000000</td>\n",
       "    </tr>\n",
       "    <tr>\n",
       "      <th>3</th>\n",
       "      <td>0.0</td>\n",
       "      <td>0.0</td>\n",
       "      <td>0.377043</td>\n",
       "      <td>0.0</td>\n",
       "      <td>0.523901</td>\n",
       "      <td>0.000000</td>\n",
       "      <td>0.0</td>\n",
       "      <td>0.0</td>\n",
       "      <td>0.0</td>\n",
       "      <td>0.0</td>\n",
       "      <td>...</td>\n",
       "      <td>0</td>\n",
       "      <td>0</td>\n",
       "      <td>0</td>\n",
       "      <td>0</td>\n",
       "      <td>0</td>\n",
       "      <td>37320.0</td>\n",
       "      <td>47630.0</td>\n",
       "      <td>60550.0</td>\n",
       "      <td>77450.000000</td>\n",
       "      <td>98990.000000</td>\n",
       "    </tr>\n",
       "    <tr>\n",
       "      <th>4</th>\n",
       "      <td>0.0</td>\n",
       "      <td>0.0</td>\n",
       "      <td>0.000000</td>\n",
       "      <td>0.0</td>\n",
       "      <td>0.000000</td>\n",
       "      <td>0.000000</td>\n",
       "      <td>0.0</td>\n",
       "      <td>0.0</td>\n",
       "      <td>0.0</td>\n",
       "      <td>0.0</td>\n",
       "      <td>...</td>\n",
       "      <td>0</td>\n",
       "      <td>0</td>\n",
       "      <td>0</td>\n",
       "      <td>0</td>\n",
       "      <td>0</td>\n",
       "      <td>50130.0</td>\n",
       "      <td>63840.0</td>\n",
       "      <td>81770.0</td>\n",
       "      <td>104530.000000</td>\n",
       "      <td>133180.000000</td>\n",
       "    </tr>\n",
       "    <tr>\n",
       "      <th>...</th>\n",
       "      <td>...</td>\n",
       "      <td>...</td>\n",
       "      <td>...</td>\n",
       "      <td>...</td>\n",
       "      <td>...</td>\n",
       "      <td>...</td>\n",
       "      <td>...</td>\n",
       "      <td>...</td>\n",
       "      <td>...</td>\n",
       "      <td>...</td>\n",
       "      <td>...</td>\n",
       "      <td>...</td>\n",
       "      <td>...</td>\n",
       "      <td>...</td>\n",
       "      <td>...</td>\n",
       "      <td>...</td>\n",
       "      <td>...</td>\n",
       "      <td>...</td>\n",
       "      <td>...</td>\n",
       "      <td>...</td>\n",
       "      <td>...</td>\n",
       "    </tr>\n",
       "    <tr>\n",
       "      <th>2292</th>\n",
       "      <td>0.0</td>\n",
       "      <td>0.0</td>\n",
       "      <td>0.000000</td>\n",
       "      <td>0.0</td>\n",
       "      <td>0.000000</td>\n",
       "      <td>0.000000</td>\n",
       "      <td>0.0</td>\n",
       "      <td>0.0</td>\n",
       "      <td>0.0</td>\n",
       "      <td>0.0</td>\n",
       "      <td>...</td>\n",
       "      <td>0</td>\n",
       "      <td>0</td>\n",
       "      <td>0</td>\n",
       "      <td>0</td>\n",
       "      <td>0</td>\n",
       "      <td>47950.0</td>\n",
       "      <td>73720.0</td>\n",
       "      <td>101550.0</td>\n",
       "      <td>163990.000000</td>\n",
       "      <td>87937.312326</td>\n",
       "    </tr>\n",
       "    <tr>\n",
       "      <th>2293</th>\n",
       "      <td>0.0</td>\n",
       "      <td>0.0</td>\n",
       "      <td>0.000000</td>\n",
       "      <td>0.0</td>\n",
       "      <td>0.000000</td>\n",
       "      <td>0.000000</td>\n",
       "      <td>0.0</td>\n",
       "      <td>0.0</td>\n",
       "      <td>0.0</td>\n",
       "      <td>0.0</td>\n",
       "      <td>...</td>\n",
       "      <td>0</td>\n",
       "      <td>0</td>\n",
       "      <td>0</td>\n",
       "      <td>0</td>\n",
       "      <td>0</td>\n",
       "      <td>47580.0</td>\n",
       "      <td>75920.0</td>\n",
       "      <td>126220.0</td>\n",
       "      <td>72875.857962</td>\n",
       "      <td>87937.312326</td>\n",
       "    </tr>\n",
       "    <tr>\n",
       "      <th>2294</th>\n",
       "      <td>0.0</td>\n",
       "      <td>0.0</td>\n",
       "      <td>0.000000</td>\n",
       "      <td>0.0</td>\n",
       "      <td>0.000000</td>\n",
       "      <td>0.000000</td>\n",
       "      <td>0.0</td>\n",
       "      <td>0.0</td>\n",
       "      <td>0.0</td>\n",
       "      <td>0.0</td>\n",
       "      <td>...</td>\n",
       "      <td>0</td>\n",
       "      <td>0</td>\n",
       "      <td>0</td>\n",
       "      <td>0</td>\n",
       "      <td>0</td>\n",
       "      <td>46400.0</td>\n",
       "      <td>60560.0</td>\n",
       "      <td>98070.0</td>\n",
       "      <td>161120.000000</td>\n",
       "      <td>87937.312326</td>\n",
       "    </tr>\n",
       "    <tr>\n",
       "      <th>2295</th>\n",
       "      <td>0.0</td>\n",
       "      <td>0.0</td>\n",
       "      <td>0.000000</td>\n",
       "      <td>0.0</td>\n",
       "      <td>0.000000</td>\n",
       "      <td>0.000000</td>\n",
       "      <td>0.0</td>\n",
       "      <td>0.0</td>\n",
       "      <td>0.0</td>\n",
       "      <td>0.0</td>\n",
       "      <td>...</td>\n",
       "      <td>0</td>\n",
       "      <td>0</td>\n",
       "      <td>0</td>\n",
       "      <td>0</td>\n",
       "      <td>0</td>\n",
       "      <td>37540.0</td>\n",
       "      <td>51260.0</td>\n",
       "      <td>80850.0</td>\n",
       "      <td>135490.000000</td>\n",
       "      <td>87937.312326</td>\n",
       "    </tr>\n",
       "    <tr>\n",
       "      <th>2296</th>\n",
       "      <td>0.0</td>\n",
       "      <td>0.0</td>\n",
       "      <td>0.000000</td>\n",
       "      <td>0.0</td>\n",
       "      <td>0.000000</td>\n",
       "      <td>0.000000</td>\n",
       "      <td>0.0</td>\n",
       "      <td>0.0</td>\n",
       "      <td>0.0</td>\n",
       "      <td>0.0</td>\n",
       "      <td>...</td>\n",
       "      <td>0</td>\n",
       "      <td>0</td>\n",
       "      <td>0</td>\n",
       "      <td>0</td>\n",
       "      <td>0</td>\n",
       "      <td>46750.0</td>\n",
       "      <td>61680.0</td>\n",
       "      <td>80130.0</td>\n",
       "      <td>119690.000000</td>\n",
       "      <td>87937.312326</td>\n",
       "    </tr>\n",
       "  </tbody>\n",
       "</table>\n",
       "<p>2297 rows × 297 columns</p>\n",
       "</div>"
      ],
      "text/plain": [
       "      word1  word2     word3  word4     word5     word6  word7  word8  word9  \\\n",
       "0       0.0    0.0  0.000000    0.0  0.256234  0.558075    0.0    0.0    0.0   \n",
       "1       0.0    0.0  0.000000    0.0  0.350251  0.000000    0.0    0.0    0.0   \n",
       "2       0.0    0.0  0.000000    0.0  0.304582  0.000000    0.0    0.0    0.0   \n",
       "3       0.0    0.0  0.377043    0.0  0.523901  0.000000    0.0    0.0    0.0   \n",
       "4       0.0    0.0  0.000000    0.0  0.000000  0.000000    0.0    0.0    0.0   \n",
       "...     ...    ...       ...    ...       ...       ...    ...    ...    ...   \n",
       "2292    0.0    0.0  0.000000    0.0  0.000000  0.000000    0.0    0.0    0.0   \n",
       "2293    0.0    0.0  0.000000    0.0  0.000000  0.000000    0.0    0.0    0.0   \n",
       "2294    0.0    0.0  0.000000    0.0  0.000000  0.000000    0.0    0.0    0.0   \n",
       "2295    0.0    0.0  0.000000    0.0  0.000000  0.000000    0.0    0.0    0.0   \n",
       "2296    0.0    0.0  0.000000    0.0  0.000000  0.000000    0.0    0.0    0.0   \n",
       "\n",
       "      word10  ...  PRIM_STATE_VT  PRIM_STATE_WA  PRIM_STATE_WI  PRIM_STATE_WV  \\\n",
       "0        0.0  ...              0              0              0              0   \n",
       "1        0.0  ...              0              0              0              0   \n",
       "2        0.0  ...              0              0              0              0   \n",
       "3        0.0  ...              0              0              0              0   \n",
       "4        0.0  ...              0              0              0              0   \n",
       "...      ...  ...            ...            ...            ...            ...   \n",
       "2292     0.0  ...              0              0              0              0   \n",
       "2293     0.0  ...              0              0              0              0   \n",
       "2294     0.0  ...              0              0              0              0   \n",
       "2295     0.0  ...              0              0              0              0   \n",
       "2296     0.0  ...              0              0              0              0   \n",
       "\n",
       "      PRIM_STATE_WY  A_PCT10  A_PCT25  A_MEDIAN        A_PCT75        A_PCT90  \n",
       "0                 0  32350.0  40200.0   50790.0   62560.000000   78520.000000  \n",
       "1                 0  47860.0  61600.0   87810.0  107460.000000  153600.000000  \n",
       "2                 0  59240.0  63050.0   89740.0  126320.000000  149070.000000  \n",
       "3                 0  37320.0  47630.0   60550.0   77450.000000   98990.000000  \n",
       "4                 0  50130.0  63840.0   81770.0  104530.000000  133180.000000  \n",
       "...             ...      ...      ...       ...            ...            ...  \n",
       "2292              0  47950.0  73720.0  101550.0  163990.000000   87937.312326  \n",
       "2293              0  47580.0  75920.0  126220.0   72875.857962   87937.312326  \n",
       "2294              0  46400.0  60560.0   98070.0  161120.000000   87937.312326  \n",
       "2295              0  37540.0  51260.0   80850.0  135490.000000   87937.312326  \n",
       "2296              0  46750.0  61680.0   80130.0  119690.000000   87937.312326  \n",
       "\n",
       "[2297 rows x 297 columns]"
      ]
     },
     "execution_count": 80,
     "metadata": {},
     "output_type": "execute_result"
    }
   ],
   "source": [
    "from sklearn.feature_extraction.text import TfidfVectorizer\n",
    "\n",
    "tf_idf_vect1 = TfidfVectorizer(ngram_range =(1,1))\n",
    "tf_idf1 = tf_idf_vect1.fit_transform(df_train[\"NAICS_TITLE\"])\n",
    "print(tf_idf1.shape)\n",
    "\n",
    "tf_idf_vect2 = TfidfVectorizer(ngram_range =(1,1))\n",
    "tf_idf2 = tf_idf_vect2.fit_transform(df_train[\"OCC_TITLE\"])\n",
    "print(tf_idf2.shape)\n",
    "\n",
    "array1 = tf_idf1.toarray()\n",
    "array2 = tf_idf2.toarray()\n",
    "df1 = pd.DataFrame(array1)\n",
    "df2 = pd.DataFrame(array2)\n",
    "\n",
    "df1.columns = ['word1','word2','word3','word4','word5','word6','word7','word8','word9','word10','word11','word12','word13','word14','word15','word16','word17','word18','word19','word20','word21','word22','word23','word24','word25','word26','word27','word28','word29','word30','word31','word32','word33','word34','word35','word36','word37','word38','word39','word40','word41','word42','word43','word44','word45','word46','word47','word48','word49','word50','word51','word52','word53','word54','word55','word56','word57','word58','word59','word60','word61','word62','word63','word64','word65']\n",
    "df2.columns = ['word66','word67','word68','word69','word70','word71','word72','word73','word74','word75','word76','word77','word78','word79','word80','word81','word82','word83','word84','word85','word86','word87','word88','word89','word90','word91','word92','word93','word94','word95','word96','word97','word98','word99','word100','word101','word102','word103','word104','word105','word106','word107','word108','word109','word110','word111','word112','word113','word114','word115','word116','word117','word118','word119','word120','word121','word122','word123','word124','word125','word126','word127','word128','word129','word130','word131','word132','word133','word134','word135','word136','word137','word138','word139','word140','word141','word142','word143','word144','word145','word146','word147','word148','word149','word150','word151','word152','word153','word154','word155','word156','word157','word158','word159','word160','word161','word162','word163','word164','word165','word166','word167','word168','word169','word170','word171','word172','word173','word174','word175','word176','word177','word178','word179','word180','word181','word182','word183','word184','word185','word186','word187','word188','word189','word190','word191','word192','word193','word194','word195','word196','word197','word198','word199','word200','word201','word202','word203','word204','word205','word206','word207','word208','word209','word210','word211','word212','word213','word214','word215','word216','word217','word218','word219','word220','word221','word222','word223','word224','word225','word226','word227','word228','word229','word230','word231','word232','word233','word234','word235','word236','word237','word238','word239','word240']\n",
    "\n",
    "data = pd.DataFrame()\n",
    "data[\"A_PCT10\"] = df_train[\"A_PCT10\"]\n",
    "data[\"A_PCT25\"] = df_train[\"A_PCT25\"]\n",
    "data[\"A_MEDIAN\"] = df_train[\"A_MEDIAN\"]\n",
    "data[\"A_PCT75\"] = df_train[\"A_PCT75\"]\n",
    "data[\"A_PCT90\"] = df_train[\"A_PCT90\"]\n",
    "\n",
    "df_train = df_train.drop(['A_PCT10','A_PCT25','A_MEDIAN', 'A_PCT75', 'A_PCT90','NAICS_TITLE','OCC_TITLE'],axis=1)\n",
    "\n",
    "df = pd.DataFrame()\n",
    "df = pd.concat([df1,df2,df_train,data],axis=1)\n",
    "df"
   ]
  },
  {
   "cell_type": "code",
   "execution_count": 81,
   "id": "0f1d3f9f-c061-4537-b205-653109b2dc99",
   "metadata": {},
   "outputs": [
    {
     "data": {
      "text/plain": [
       "word1       0\n",
       "word2       0\n",
       "word3       0\n",
       "word4       0\n",
       "word5       0\n",
       "           ..\n",
       "A_PCT10     0\n",
       "A_PCT25     0\n",
       "A_MEDIAN    0\n",
       "A_PCT75     0\n",
       "A_PCT90     0\n",
       "Length: 297, dtype: int64"
      ]
     },
     "execution_count": 81,
     "metadata": {},
     "output_type": "execute_result"
    }
   ],
   "source": [
    "df.isna().sum()"
   ]
  },
  {
   "cell_type": "code",
   "execution_count": 82,
   "id": "d51ddd38-38f8-4853-a022-987f07fca5a4",
   "metadata": {},
   "outputs": [],
   "source": [
    "### The range of skewness for a fairly symmetrical bell curve \n",
    "###distribution is between -0.5 and 0.5; moderate skewness\n",
    "### is -0.5 to -1.0 and 0.5 to 1.0; and highly skewed distribution \n",
    "###is < -1.0 and > 1.0."
   ]
  },
  {
   "cell_type": "code",
   "execution_count": 83,
   "id": "48b23987-3b70-4f02-9f90-f027a88618a8",
   "metadata": {},
   "outputs": [
    {
     "data": {
      "image/png": "[encoded data removed]",
      "text/plain": [
       "<Figure size 432x288 with 1 Axes>"
      ]
     },
     "metadata": {
      "needs_background": "light"
     },
     "output_type": "display_data"
    }
   ],
   "source": [
    "sp_untransformed = sns.distplot(df['A_PCT10'])"
   ]
  },
  {
   "cell_type": "code",
   "execution_count": 84,
   "id": "cdefc135-3a2f-412b-9145-1560a82c2f49",
   "metadata": {},
   "outputs": [
    {
     "name": "stdout",
     "output_type": "stream",
     "text": [
      "Skewness: 1.578294\n"
     ]
    }
   ],
   "source": [
    "print(\"Skewness: %f\" % df['A_PCT10'].skew())"
   ]
  },
  {
   "cell_type": "code",
   "execution_count": 85,
   "id": "bd3ccd6d-f79e-4b8d-ab6c-2edf72a5f68e",
   "metadata": {},
   "outputs": [],
   "source": [
    "df['A_PCT10'] = np.log(df['A_PCT10'])"
   ]
  },
  {
   "cell_type": "code",
   "execution_count": 86,
   "id": "11e17b5e-51de-4ac8-b3ec-65ab2579b551",
   "metadata": {},
   "outputs": [
    {
     "data": {
      "image/png": "[encoded data removed]",
      "text/plain": [
       "<Figure size 432x288 with 1 Axes>"
      ]
     },
     "metadata": {
      "needs_background": "light"
     },
     "output_type": "display_data"
    }
   ],
   "source": [
    "sp_untransformed = sns.distplot(df['A_PCT10'])"
   ]
  },
  {
   "cell_type": "code",
   "execution_count": 87,
   "id": "14cd76dc-bde8-4e7d-adc0-14727d12e70d",
   "metadata": {},
   "outputs": [
    {
     "name": "stdout",
     "output_type": "stream",
     "text": [
      "Skewness: 0.596265\n"
     ]
    }
   ],
   "source": [
    "print(\"Skewness: %f\" % df['A_PCT10'].skew())"
   ]
  },
  {
   "cell_type": "code",
   "execution_count": 88,
   "id": "f315d41e-151d-44b2-9f4c-4ab1758ec70b",
   "metadata": {},
   "outputs": [
    {
     "data": {
      "image/png": "[encoded data removed]",
      "text/plain": [
       "<Figure size 432x288 with 1 Axes>"
      ]
     },
     "metadata": {
      "needs_background": "light"
     },
     "output_type": "display_data"
    }
   ],
   "source": [
    "sp_untransformed = sns.distplot(df['A_PCT25'])"
   ]
  },
  {
   "cell_type": "code",
   "execution_count": 89,
   "id": "de783f8c-da79-4902-8121-9f553a0c1b67",
   "metadata": {},
   "outputs": [
    {
     "name": "stdout",
     "output_type": "stream",
     "text": [
      "Skewness: 1.578314\n"
     ]
    }
   ],
   "source": [
    "print(\"Skewness: %f\" % df['A_PCT25'].skew())"
   ]
  },
  {
   "cell_type": "code",
   "execution_count": 90,
   "id": "137f51ab-bed5-4353-97ef-4bebd8db7658",
   "metadata": {},
   "outputs": [],
   "source": [
    "df['A_PCT25'] = np.log(df['A_PCT25'])"
   ]
  },
  {
   "cell_type": "code",
   "execution_count": 91,
   "id": "5057c2e9-c837-46f1-89af-ceeebea72032",
   "metadata": {},
   "outputs": [
    {
     "data": {
      "image/png": "[encoded data removed]",
      "text/plain": [
       "<Figure size 432x288 with 1 Axes>"
      ]
     },
     "metadata": {
      "needs_background": "light"
     },
     "output_type": "display_data"
    }
   ],
   "source": [
    "sp_untransformed = sns.distplot(df['A_PCT25'])"
   ]
  },
  {
   "cell_type": "code",
   "execution_count": 92,
   "id": "5328066e-7785-46b7-9e41-35634f6f0b91",
   "metadata": {},
   "outputs": [
    {
     "name": "stdout",
     "output_type": "stream",
     "text": [
      "Skewness: 0.545917\n"
     ]
    }
   ],
   "source": [
    "print(\"Skewness: %f\" % df['A_PCT25'].skew())"
   ]
  },
  {
   "cell_type": "code",
   "execution_count": 93,
   "id": "0d51a53f-4ff3-439e-8e53-2d6f02eadc35",
   "metadata": {},
   "outputs": [
    {
     "data": {
      "image/png": "[encoded data removed]",
      "text/plain": [
       "<Figure size 432x288 with 1 Axes>"
      ]
     },
     "metadata": {
      "needs_background": "light"
     },
     "output_type": "display_data"
    }
   ],
   "source": [
    "sp_untransformed = sns.distplot(df['A_MEDIAN'])"
   ]
  },
  {
   "cell_type": "code",
   "execution_count": 94,
   "id": "072cc5fb-5ae8-46e0-b556-6d7af082637e",
   "metadata": {},
   "outputs": [
    {
     "name": "stdout",
     "output_type": "stream",
     "text": [
      "Skewness: 1.470758\n"
     ]
    }
   ],
   "source": [
    "print(\"Skewness: %f\" % df['A_MEDIAN'].skew())"
   ]
  },
  {
   "cell_type": "code",
   "execution_count": 95,
   "id": "b6ef3ce9-795b-4999-b25a-77e7f6b4d130",
   "metadata": {},
   "outputs": [],
   "source": [
    "df['A_MEDIAN'] = np.log(df['A_MEDIAN'])"
   ]
  },
  {
   "cell_type": "code",
   "execution_count": 96,
   "id": "4c1d69ab-a64b-4dbb-ad5f-5ea4de2772b9",
   "metadata": {},
   "outputs": [
    {
     "name": "stdout",
     "output_type": "stream",
     "text": [
      "Skewness: 0.426484\n"
     ]
    }
   ],
   "source": [
    "print(\"Skewness: %f\" % df['A_MEDIAN'].skew())"
   ]
  },
  {
   "cell_type": "code",
   "execution_count": 97,
   "id": "ad684d6f-93a9-4b4e-bbfd-89a3bce590d0",
   "metadata": {},
   "outputs": [
    {
     "data": {
      "image/png": "[encoded data removed]",
      "text/plain": [
       "<Figure size 432x288 with 1 Axes>"
      ]
     },
     "metadata": {
      "needs_background": "light"
     },
     "output_type": "display_data"
    }
   ],
   "source": [
    "sp_untransformed = sns.distplot(df['A_MEDIAN'])"
   ]
  },
  {
   "cell_type": "code",
   "execution_count": 98,
   "id": "de5dadb9-e5b7-4da0-a5b0-5f9f081cb212",
   "metadata": {},
   "outputs": [
    {
     "data": {
      "image/png": "[encoded data removed]",
      "text/plain": [
       "<Figure size 432x288 with 1 Axes>"
      ]
     },
     "metadata": {
      "needs_background": "light"
     },
     "output_type": "display_data"
    }
   ],
   "source": [
    "sp_untransformed = sns.distplot(df['A_PCT75'])"
   ]
  },
  {
   "cell_type": "code",
   "execution_count": 99,
   "id": "a09cffa2-536c-4bf3-9903-ad19192fe818",
   "metadata": {},
   "outputs": [],
   "source": [
    "df['A_PCT75'] = np.log(df['A_PCT75'])"
   ]
  },
  {
   "cell_type": "code",
   "execution_count": 100,
   "id": "8d83ca11-b1dc-4660-8433-7e0d48178a14",
   "metadata": {},
   "outputs": [
    {
     "name": "stdout",
     "output_type": "stream",
     "text": [
      "Skewness: 0.288458\n"
     ]
    }
   ],
   "source": [
    "print(\"Skewness: %f\" % df['A_PCT75'].skew())"
   ]
  },
  {
   "cell_type": "code",
   "execution_count": 101,
   "id": "38b2f6ee-7657-4029-885b-45c977d7d1c7",
   "metadata": {},
   "outputs": [
    {
     "data": {
      "image/png": "[encoded data removed]",
      "text/plain": [
       "<Figure size 432x288 with 1 Axes>"
      ]
     },
     "metadata": {
      "needs_background": "light"
     },
     "output_type": "display_data"
    }
   ],
   "source": [
    "sp_untransformed = sns.distplot(df['A_PCT90'])"
   ]
  },
  {
   "cell_type": "code",
   "execution_count": 102,
   "id": "ade7c3a2-b9b1-4d30-bacd-0bbf3ba16ae5",
   "metadata": {},
   "outputs": [
    {
     "name": "stdout",
     "output_type": "stream",
     "text": [
      "Skewness: 0.862292\n"
     ]
    }
   ],
   "source": [
    "print(\"Skewness: %f\" % df['A_PCT90'].skew())"
   ]
  },
  {
   "cell_type": "code",
   "execution_count": 103,
   "id": "244aee01-1fdc-4767-b28e-0a11b48844d8",
   "metadata": {},
   "outputs": [],
   "source": [
    "df['A_PCT90'] = np.log(df['A_PCT90'])"
   ]
  },
  {
   "cell_type": "code",
   "execution_count": 104,
   "id": "4701b951-5b93-492e-a6ed-3c525075de6a",
   "metadata": {},
   "outputs": [
    {
     "name": "stdout",
     "output_type": "stream",
     "text": [
      "Skewness: 0.070388\n"
     ]
    }
   ],
   "source": [
    "print(\"Skewness: %f\" % df['A_PCT90'].skew())"
   ]
  },
  {
   "cell_type": "code",
   "execution_count": 105,
   "id": "68596cc7-c8c9-4eb5-b051-c2d340964d92",
   "metadata": {},
   "outputs": [
    {
     "data": {
      "image/png": "[encoded data removed]",
      "text/plain": [
       "<Figure size 432x288 with 1 Axes>"
      ]
     },
     "metadata": {
      "needs_background": "light"
     },
     "output_type": "display_data"
    }
   ],
   "source": [
    "sp_untransformed = sns.distplot(df['A_PCT90'])"
   ]
  },
  {
   "cell_type": "code",
   "execution_count": 106,
   "id": "42113745-ef6c-471e-9a69-05de4d795063",
   "metadata": {},
   "outputs": [
    {
     "data": {
      "text/plain": [
       "<AxesSubplot:>"
      ]
     },
     "execution_count": 106,
     "metadata": {},
     "output_type": "execute_result"
    },
    {
     "data": {
      "image/png": "[encoded data removed]",
      "text/plain": [
       "<Figure size 432x288 with 1 Axes>"
      ]
     },
     "metadata": {
      "needs_background": "light"
     },
     "output_type": "display_data"
    }
   ],
   "source": [
    "df.boxplot(column='A_PCT10')"
   ]
  },
  {
   "cell_type": "code",
   "execution_count": 107,
   "id": "6d74eace-dbcd-48af-92b6-2bc1a30d0832",
   "metadata": {},
   "outputs": [
    {
     "data": {
      "text/plain": [
       "<AxesSubplot:>"
      ]
     },
     "execution_count": 107,
     "metadata": {},
     "output_type": "execute_result"
    },
    {
     "data": {
      "image/png": "[encoded data removed]",
      "text/plain": [
       "<Figure size 432x288 with 1 Axes>"
      ]
     },
     "metadata": {
      "needs_background": "light"
     },
     "output_type": "display_data"
    }
   ],
   "source": [
    "df.boxplot(column='A_PCT25')"
   ]
  },
  {
   "cell_type": "code",
   "execution_count": 108,
   "id": "845cbb74-b317-4b71-b868-e12f16a20d2d",
   "metadata": {},
   "outputs": [
    {
     "data": {
      "text/plain": [
       "<AxesSubplot:>"
      ]
     },
     "execution_count": 108,
     "metadata": {},
     "output_type": "execute_result"
    },
    {
     "data": {
      "image/png": "[encoded data removed]",
      "text/plain": [
       "<Figure size 432x288 with 1 Axes>"
      ]
     },
     "metadata": {
      "needs_background": "light"
     },
     "output_type": "display_data"
    }
   ],
   "source": [
    "df.boxplot(column='A_MEDIAN')"
   ]
  },
  {
   "cell_type": "code",
   "execution_count": 109,
   "id": "92633854-57a3-47ef-a054-4c681355c7fd",
   "metadata": {},
   "outputs": [
    {
     "data": {
      "text/plain": [
       "<AxesSubplot:>"
      ]
     },
     "execution_count": 109,
     "metadata": {},
     "output_type": "execute_result"
    },
    {
     "data": {
      "image/png": "[encoded data removed]",
      "text/plain": [
       "<Figure size 432x288 with 1 Axes>"
      ]
     },
     "metadata": {
      "needs_background": "light"
     },
     "output_type": "display_data"
    }
   ],
   "source": [
    "df.boxplot(column='A_PCT75')"
   ]
  },
  {
   "cell_type": "code",
   "execution_count": 110,
   "id": "0d74cbcc-c122-4ebd-864a-61ef05835c3b",
   "metadata": {},
   "outputs": [
    {
     "data": {
      "text/plain": [
       "<AxesSubplot:>"
      ]
     },
     "execution_count": 110,
     "metadata": {},
     "output_type": "execute_result"
    },
    {
     "data": {
      "image/png": "[encoded data removed]",
      "text/plain": [
       "<Figure size 432x288 with 1 Axes>"
      ]
     },
     "metadata": {
      "needs_background": "light"
     },
     "output_type": "display_data"
    }
   ],
   "source": [
    "df.boxplot(column='A_PCT90')"
   ]
  },
  {
   "cell_type": "code",
   "execution_count": 111,
   "id": "e0c289ce-998e-4dee-a5c2-ba0bedc5845d",
   "metadata": {},
   "outputs": [
    {
     "data": {
      "text/plain": [
       "count    2297.000000\n",
       "mean       10.369694\n",
       "std         0.340606\n",
       "min         9.745663\n",
       "25%        10.082052\n",
       "50%        10.301592\n",
       "75%        10.552683\n",
       "max        11.525545\n",
       "Name: A_PCT10, dtype: float64"
      ]
     },
     "execution_count": 111,
     "metadata": {},
     "output_type": "execute_result"
    }
   ],
   "source": [
    "df['A_PCT10'].describe()"
   ]
  },
  {
   "cell_type": "code",
   "execution_count": 112,
   "id": "98dcbffb-c631-4787-b96d-31e629aec469",
   "metadata": {},
   "outputs": [
    {
     "data": {
      "text/plain": [
       "10.369693757626596"
      ]
     },
     "execution_count": 112,
     "metadata": {},
     "output_type": "execute_result"
    }
   ],
   "source": [
    "df['A_PCT10'].mean()"
   ]
  },
  {
   "cell_type": "code",
   "execution_count": 113,
   "id": "c1c78b4f-5b3a-48a8-81e2-ec9792bb1bd2",
   "metadata": {},
   "outputs": [
    {
     "data": {
      "text/plain": [
       "11.52554549632633"
      ]
     },
     "execution_count": 113,
     "metadata": {},
     "output_type": "execute_result"
    }
   ],
   "source": [
    "df['A_PCT10'].max()"
   ]
  },
  {
   "cell_type": "code",
   "execution_count": 114,
   "id": "c039e084-f875-4d7f-8277-a0476346a42d",
   "metadata": {},
   "outputs": [
    {
     "name": "stdout",
     "output_type": "stream",
     "text": [
      "9.34787711170124\n",
      "11.391510403551951\n"
     ]
    },
    {
     "data": {
      "text/plain": [
       "(None, None)"
      ]
     },
     "execution_count": 114,
     "metadata": {},
     "output_type": "execute_result"
    }
   ],
   "source": [
    "##### Assuming step follows A Gaussian Distribution we will calculate the boundaries which differentiates the outliers\n",
    "\n",
    "upper_boundary=df['A_PCT10'].mean() + 3* df['A_PCT10'].std()\n",
    "lower_boundary=df['A_PCT10'].mean() - 3* df['A_PCT10'].std()\n",
    "print(lower_boundary), print(upper_boundary)"
   ]
  },
  {
   "cell_type": "code",
   "execution_count": 115,
   "id": "2dd15044-ed4f-4d75-8d08-4a46ac7a7454",
   "metadata": {},
   "outputs": [
    {
     "data": {
      "text/plain": [
       "count    2297.000000\n",
       "mean       10.583706\n",
       "std         0.389502\n",
       "min         9.757884\n",
       "25%        10.287388\n",
       "50%        10.527017\n",
       "75%        10.806085\n",
       "max        11.921054\n",
       "Name: A_PCT25, dtype: float64"
      ]
     },
     "execution_count": 115,
     "metadata": {},
     "output_type": "execute_result"
    }
   ],
   "source": [
    "df['A_PCT25'].describe()"
   ]
  },
  {
   "cell_type": "code",
   "execution_count": 116,
   "id": "d232f1d5-e56d-4813-8314-34bba9694105",
   "metadata": {},
   "outputs": [
    {
     "data": {
      "text/plain": [
       "10.583705791747256"
      ]
     },
     "execution_count": 116,
     "metadata": {},
     "output_type": "execute_result"
    }
   ],
   "source": [
    "df['A_PCT25'].mean()"
   ]
  },
  {
   "cell_type": "code",
   "execution_count": 117,
   "id": "b0f896ba-981f-4de5-90ac-5ce422434e2a",
   "metadata": {},
   "outputs": [
    {
     "data": {
      "text/plain": [
       "11.921053690497876"
      ]
     },
     "execution_count": 117,
     "metadata": {},
     "output_type": "execute_result"
    }
   ],
   "source": [
    "df['A_PCT25'].max()"
   ]
  },
  {
   "cell_type": "code",
   "execution_count": 118,
   "id": "b67e3d7a-3e9d-49fd-ab7f-88a84d5a8213",
   "metadata": {},
   "outputs": [
    {
     "name": "stdout",
     "output_type": "stream",
     "text": [
      "9.415200657775518\n",
      "11.752210925718995\n"
     ]
    },
    {
     "data": {
      "text/plain": [
       "(None, None)"
      ]
     },
     "execution_count": 118,
     "metadata": {},
     "output_type": "execute_result"
    }
   ],
   "source": [
    "upper_boundary_2=df['A_PCT25'].mean() + 3* df['A_PCT25'].std()\n",
    "lower_boundary_2=df['A_PCT25'].mean() - 3* df['A_PCT25'].std()\n",
    "print(lower_boundary_2), print(upper_boundary_2)"
   ]
  },
  {
   "cell_type": "code",
   "execution_count": 119,
   "id": "fbb609c9-1ace-48d6-b521-a439418f9a2e",
   "metadata": {},
   "outputs": [],
   "source": [
    "df = df.copy()"
   ]
  },
  {
   "cell_type": "code",
   "execution_count": 120,
   "id": "3789826d-f88e-46d3-a805-b441adc14d62",
   "metadata": {},
   "outputs": [],
   "source": [
    "df.loc[df['A_PCT10']>=11, 'A_PCT10']=11"
   ]
  },
  {
   "cell_type": "code",
   "execution_count": 121,
   "id": "82e70d5a-f12f-4c2f-b0cf-9ff40b5be4d8",
   "metadata": {},
   "outputs": [],
   "source": [
    "df.loc[df['A_PCT25']>=11, 'A_PCT25']=11"
   ]
  },
  {
   "cell_type": "code",
   "execution_count": 122,
   "id": "808f814a-07d6-4007-825a-5d9b597cbc34",
   "metadata": {},
   "outputs": [],
   "source": [
    "df.loc[df['A_PCT10']<9, 'A_PCT10']=9"
   ]
  },
  {
   "cell_type": "code",
   "execution_count": 123,
   "id": "c1a0d20b-2a94-4213-bf5a-564f8dc08aa9",
   "metadata": {},
   "outputs": [],
   "source": [
    "df.loc[df['A_PCT25']<9, 'A_PCT25']=9"
   ]
  },
  {
   "cell_type": "code",
   "execution_count": 124,
   "id": "3d5d9adb-ddd4-4d45-aded-7804eb774798",
   "metadata": {},
   "outputs": [],
   "source": [
    "X = df.iloc[:, :-5].values\n",
    "y = df.iloc[:, -5:].values"
   ]
  },
  {
   "cell_type": "code",
   "execution_count": 125,
   "id": "cb24a895-5627-496d-97d5-6980828b1957",
   "metadata": {},
   "outputs": [],
   "source": [
    "from sklearn.model_selection import train_test_split\n",
    "X_train, X_test, y_train, y_test = train_test_split(X, y, test_size = 0.2, random_state = 0)"
   ]
  },
  {
   "cell_type": "code",
   "execution_count": 126,
   "id": "381c585c-211f-4364-a4f6-22d906ce5704",
   "metadata": {},
   "outputs": [],
   "source": [
    "from sklearn.multioutput import MultiOutputRegressor\n",
    "from sklearn.linear_model import Ridge\n",
    "regr = MultiOutputRegressor(Ridge(random_state=123)).fit(X_train, y_train)"
   ]
  },
  {
   "cell_type": "code",
   "execution_count": 127,
   "id": "b59f9e0a-ac3e-47ab-92db-8e53328b116c",
   "metadata": {},
   "outputs": [],
   "source": [
    "y_pred = regr.predict(X_test)"
   ]
  },
  {
   "cell_type": "code",
   "execution_count": 128,
   "id": "7a6554e6-dd0c-4b34-87bb-769e789bbc69",
   "metadata": {},
   "outputs": [
    {
     "name": "stdout",
     "output_type": "stream",
     "text": [
      "R2_score 0.802740353695277\n"
     ]
    }
   ],
   "source": [
    "from sklearn.metrics import r2_score\n",
    "print(\"R2_score\", r2_score(y_test,y_pred))"
   ]
  },
  {
   "cell_type": "code",
   "execution_count": 141,
   "id": "e95708d2-1333-4830-9b44-ae8d48a8024a",
   "metadata": {},
   "outputs": [],
   "source": [
    "def Eval_metric(y, y_hat):\n",
    "  w=[0.1, 0.2, 0.4, 0.2, 0.1]\n",
    "  n=y_hat.shape[0]\n",
    "  sum=0\n",
    "  for i in range(n):\n",
    "    j=0\n",
    "    for y1, y2 in zip(y[i], y_hat[i]):\n",
    "       sum+=w[j]*(np.abs(y1-y2)/y1).astype(float)\n",
    "       j+=1\n",
    "  return sum/n"
   ]
  },
  {
   "cell_type": "code",
   "execution_count": 142,
   "id": "5dc139a4",
   "metadata": {},
   "outputs": [
    {
     "name": "stdout",
     "output_type": "stream",
     "text": [
      "0.011767976282822161\n"
     ]
    }
   ],
   "source": [
    "print(Eval_metric(y_test, y_pred))"
   ]
  },
  {
   "cell_type": "code",
   "execution_count": 129,
   "id": "032546af-daaa-4c8d-90a5-7bc0ea359c52",
   "metadata": {},
   "outputs": [],
   "source": [
    "df_sub = pd.read_csv('submission.csv')"
   ]
  },
  {
   "cell_type": "code",
   "execution_count": 130,
   "id": "50d0f3d8-5c5f-47b6-851d-e040113a50df",
   "metadata": {},
   "outputs": [
    {
     "data": {
      "text/html": [
       "<div>\n",
       "<style scoped>\n",
       "    .dataframe tbody tr th:only-of-type {\n",
       "        vertical-align: middle;\n",
       "    }\n",
       "\n",
       "    .dataframe tbody tr th {\n",
       "        vertical-align: top;\n",
       "    }\n",
       "\n",
       "    .dataframe thead th {\n",
       "        text-align: right;\n",
       "    }\n",
       "</style>\n",
       "<table border=\"1\" class=\"dataframe\">\n",
       "  <thead>\n",
       "    <tr style=\"text-align: right;\">\n",
       "      <th></th>\n",
       "      <th>PRIM_STATE</th>\n",
       "      <th>NAICS_TITLE</th>\n",
       "      <th>OCC_TITLE</th>\n",
       "      <th>A_PCT10</th>\n",
       "      <th>A_PCT25</th>\n",
       "      <th>A_MEDIAN</th>\n",
       "      <th>A_PCT75</th>\n",
       "      <th>A_PCT90</th>\n",
       "    </tr>\n",
       "  </thead>\n",
       "  <tbody>\n",
       "    <tr>\n",
       "      <th>0</th>\n",
       "      <td>US</td>\n",
       "      <td>Accommodation and Food Services</td>\n",
       "      <td>Other Production Occupations</td>\n",
       "      <td>10000</td>\n",
       "      <td>20000</td>\n",
       "      <td>30000</td>\n",
       "      <td>40000</td>\n",
       "      <td>50000</td>\n",
       "    </tr>\n",
       "    <tr>\n",
       "      <th>1</th>\n",
       "      <td>NE</td>\n",
       "      <td>Cross-industry</td>\n",
       "      <td>Arts, Design, Entertainment, Sports, and Media...</td>\n",
       "      <td>10000</td>\n",
       "      <td>20000</td>\n",
       "      <td>30000</td>\n",
       "      <td>40000</td>\n",
       "      <td>50000</td>\n",
       "    </tr>\n",
       "    <tr>\n",
       "      <th>2</th>\n",
       "      <td>US</td>\n",
       "      <td>Manufacturing</td>\n",
       "      <td>Construction and Extraction Occupations</td>\n",
       "      <td>10000</td>\n",
       "      <td>20000</td>\n",
       "      <td>30000</td>\n",
       "      <td>40000</td>\n",
       "      <td>50000</td>\n",
       "    </tr>\n",
       "    <tr>\n",
       "      <th>3</th>\n",
       "      <td>US</td>\n",
       "      <td>Wholesale Trade</td>\n",
       "      <td>Material Moving Workers</td>\n",
       "      <td>10000</td>\n",
       "      <td>20000</td>\n",
       "      <td>30000</td>\n",
       "      <td>40000</td>\n",
       "      <td>50000</td>\n",
       "    </tr>\n",
       "    <tr>\n",
       "      <th>4</th>\n",
       "      <td>US</td>\n",
       "      <td>Other Services (except Public Administration)</td>\n",
       "      <td>Supervisors of Building and Grounds Cleaning a...</td>\n",
       "      <td>10000</td>\n",
       "      <td>20000</td>\n",
       "      <td>30000</td>\n",
       "      <td>40000</td>\n",
       "      <td>50000</td>\n",
       "    </tr>\n",
       "    <tr>\n",
       "      <th>...</th>\n",
       "      <td>...</td>\n",
       "      <td>...</td>\n",
       "      <td>...</td>\n",
       "      <td>...</td>\n",
       "      <td>...</td>\n",
       "      <td>...</td>\n",
       "      <td>...</td>\n",
       "      <td>...</td>\n",
       "    </tr>\n",
       "    <tr>\n",
       "      <th>921</th>\n",
       "      <td>US</td>\n",
       "      <td>Utilities</td>\n",
       "      <td>Other Educational Instruction and Library Occu...</td>\n",
       "      <td>10000</td>\n",
       "      <td>20000</td>\n",
       "      <td>30000</td>\n",
       "      <td>40000</td>\n",
       "      <td>50000</td>\n",
       "    </tr>\n",
       "    <tr>\n",
       "      <th>922</th>\n",
       "      <td>US</td>\n",
       "      <td>Arts, Entertainment, and Recreation</td>\n",
       "      <td>Community and Social Service Occupations</td>\n",
       "      <td>10000</td>\n",
       "      <td>20000</td>\n",
       "      <td>30000</td>\n",
       "      <td>40000</td>\n",
       "      <td>50000</td>\n",
       "    </tr>\n",
       "    <tr>\n",
       "      <th>923</th>\n",
       "      <td>WI</td>\n",
       "      <td>Cross-industry</td>\n",
       "      <td>Arts, Design, Entertainment, Sports, and Media...</td>\n",
       "      <td>10000</td>\n",
       "      <td>20000</td>\n",
       "      <td>30000</td>\n",
       "      <td>40000</td>\n",
       "      <td>50000</td>\n",
       "    </tr>\n",
       "    <tr>\n",
       "      <th>924</th>\n",
       "      <td>PA</td>\n",
       "      <td>Cross-industry</td>\n",
       "      <td>Computer and Mathematical Occupations</td>\n",
       "      <td>10000</td>\n",
       "      <td>20000</td>\n",
       "      <td>30000</td>\n",
       "      <td>40000</td>\n",
       "      <td>50000</td>\n",
       "    </tr>\n",
       "    <tr>\n",
       "      <th>925</th>\n",
       "      <td>US</td>\n",
       "      <td>Construction</td>\n",
       "      <td>Other Protective Service Workers</td>\n",
       "      <td>10000</td>\n",
       "      <td>20000</td>\n",
       "      <td>30000</td>\n",
       "      <td>40000</td>\n",
       "      <td>50000</td>\n",
       "    </tr>\n",
       "  </tbody>\n",
       "</table>\n",
       "<p>926 rows × 8 columns</p>\n",
       "</div>"
      ],
      "text/plain": [
       "    PRIM_STATE                                    NAICS_TITLE  \\\n",
       "0           US                Accommodation and Food Services   \n",
       "1           NE                                 Cross-industry   \n",
       "2           US                                  Manufacturing   \n",
       "3           US                                Wholesale Trade   \n",
       "4           US  Other Services (except Public Administration)   \n",
       "..         ...                                            ...   \n",
       "921         US                                      Utilities   \n",
       "922         US            Arts, Entertainment, and Recreation   \n",
       "923         WI                                 Cross-industry   \n",
       "924         PA                                 Cross-industry   \n",
       "925         US                                   Construction   \n",
       "\n",
       "                                             OCC_TITLE  A_PCT10  A_PCT25  \\\n",
       "0                         Other Production Occupations    10000    20000   \n",
       "1    Arts, Design, Entertainment, Sports, and Media...    10000    20000   \n",
       "2              Construction and Extraction Occupations    10000    20000   \n",
       "3                              Material Moving Workers    10000    20000   \n",
       "4    Supervisors of Building and Grounds Cleaning a...    10000    20000   \n",
       "..                                                 ...      ...      ...   \n",
       "921  Other Educational Instruction and Library Occu...    10000    20000   \n",
       "922           Community and Social Service Occupations    10000    20000   \n",
       "923  Arts, Design, Entertainment, Sports, and Media...    10000    20000   \n",
       "924              Computer and Mathematical Occupations    10000    20000   \n",
       "925                   Other Protective Service Workers    10000    20000   \n",
       "\n",
       "     A_MEDIAN  A_PCT75  A_PCT90  \n",
       "0       30000    40000    50000  \n",
       "1       30000    40000    50000  \n",
       "2       30000    40000    50000  \n",
       "3       30000    40000    50000  \n",
       "4       30000    40000    50000  \n",
       "..        ...      ...      ...  \n",
       "921     30000    40000    50000  \n",
       "922     30000    40000    50000  \n",
       "923     30000    40000    50000  \n",
       "924     30000    40000    50000  \n",
       "925     30000    40000    50000  \n",
       "\n",
       "[926 rows x 8 columns]"
      ]
     },
     "execution_count": 130,
     "metadata": {},
     "output_type": "execute_result"
    }
   ],
   "source": [
    "df_sub"
   ]
  },
  {
   "cell_type": "code",
   "execution_count": 131,
   "id": "40b695af-890f-49bb-9057-a42345a94d96",
   "metadata": {},
   "outputs": [
    {
     "data": {
      "text/plain": [
       "PRIM_STATE     0\n",
       "NAICS_TITLE    0\n",
       "OCC_TITLE      0\n",
       "A_PCT10        0\n",
       "A_PCT25        0\n",
       "A_MEDIAN       0\n",
       "A_PCT75        0\n",
       "A_PCT90        0\n",
       "dtype: int64"
      ]
     },
     "execution_count": 131,
     "metadata": {},
     "output_type": "execute_result"
    }
   ],
   "source": [
    "df_sub.isna().sum()"
   ]
  },
  {
   "cell_type": "code",
   "execution_count": 132,
   "id": "9a0b6cb1-b421-497e-b33a-b1e57e2a7709",
   "metadata": {},
   "outputs": [],
   "source": [
    "df_sub = pd.get_dummies(data=df_sub, columns = ['PRIM_STATE'])"
   ]
  },
  {
   "cell_type": "code",
   "execution_count": 133,
   "id": "387790ab-8585-4f29-92db-191e7742f911",
   "metadata": {},
   "outputs": [
    {
     "data": {
      "text/html": [
       "<div>\n",
       "<style scoped>\n",
       "    .dataframe tbody tr th:only-of-type {\n",
       "        vertical-align: middle;\n",
       "    }\n",
       "\n",
       "    .dataframe tbody tr th {\n",
       "        vertical-align: top;\n",
       "    }\n",
       "\n",
       "    .dataframe thead th {\n",
       "        text-align: right;\n",
       "    }\n",
       "</style>\n",
       "<table border=\"1\" class=\"dataframe\">\n",
       "  <thead>\n",
       "    <tr style=\"text-align: right;\">\n",
       "      <th></th>\n",
       "      <th>NAICS_TITLE</th>\n",
       "      <th>OCC_TITLE</th>\n",
       "      <th>A_PCT10</th>\n",
       "      <th>A_PCT25</th>\n",
       "      <th>A_MEDIAN</th>\n",
       "      <th>A_PCT75</th>\n",
       "      <th>A_PCT90</th>\n",
       "      <th>PRIM_STATE_AK</th>\n",
       "      <th>PRIM_STATE_AL</th>\n",
       "      <th>PRIM_STATE_AR</th>\n",
       "      <th>...</th>\n",
       "      <th>PRIM_STATE_TN</th>\n",
       "      <th>PRIM_STATE_TX</th>\n",
       "      <th>PRIM_STATE_US</th>\n",
       "      <th>PRIM_STATE_UT</th>\n",
       "      <th>PRIM_STATE_VA</th>\n",
       "      <th>PRIM_STATE_VT</th>\n",
       "      <th>PRIM_STATE_WA</th>\n",
       "      <th>PRIM_STATE_WI</th>\n",
       "      <th>PRIM_STATE_WV</th>\n",
       "      <th>PRIM_STATE_WY</th>\n",
       "    </tr>\n",
       "  </thead>\n",
       "  <tbody>\n",
       "    <tr>\n",
       "      <th>0</th>\n",
       "      <td>Accommodation and Food Services</td>\n",
       "      <td>Other Production Occupations</td>\n",
       "      <td>10000</td>\n",
       "      <td>20000</td>\n",
       "      <td>30000</td>\n",
       "      <td>40000</td>\n",
       "      <td>50000</td>\n",
       "      <td>0</td>\n",
       "      <td>0</td>\n",
       "      <td>0</td>\n",
       "      <td>...</td>\n",
       "      <td>0</td>\n",
       "      <td>0</td>\n",
       "      <td>1</td>\n",
       "      <td>0</td>\n",
       "      <td>0</td>\n",
       "      <td>0</td>\n",
       "      <td>0</td>\n",
       "      <td>0</td>\n",
       "      <td>0</td>\n",
       "      <td>0</td>\n",
       "    </tr>\n",
       "    <tr>\n",
       "      <th>1</th>\n",
       "      <td>Cross-industry</td>\n",
       "      <td>Arts, Design, Entertainment, Sports, and Media...</td>\n",
       "      <td>10000</td>\n",
       "      <td>20000</td>\n",
       "      <td>30000</td>\n",
       "      <td>40000</td>\n",
       "      <td>50000</td>\n",
       "      <td>0</td>\n",
       "      <td>0</td>\n",
       "      <td>0</td>\n",
       "      <td>...</td>\n",
       "      <td>0</td>\n",
       "      <td>0</td>\n",
       "      <td>0</td>\n",
       "      <td>0</td>\n",
       "      <td>0</td>\n",
       "      <td>0</td>\n",
       "      <td>0</td>\n",
       "      <td>0</td>\n",
       "      <td>0</td>\n",
       "      <td>0</td>\n",
       "    </tr>\n",
       "    <tr>\n",
       "      <th>2</th>\n",
       "      <td>Manufacturing</td>\n",
       "      <td>Construction and Extraction Occupations</td>\n",
       "      <td>10000</td>\n",
       "      <td>20000</td>\n",
       "      <td>30000</td>\n",
       "      <td>40000</td>\n",
       "      <td>50000</td>\n",
       "      <td>0</td>\n",
       "      <td>0</td>\n",
       "      <td>0</td>\n",
       "      <td>...</td>\n",
       "      <td>0</td>\n",
       "      <td>0</td>\n",
       "      <td>1</td>\n",
       "      <td>0</td>\n",
       "      <td>0</td>\n",
       "      <td>0</td>\n",
       "      <td>0</td>\n",
       "      <td>0</td>\n",
       "      <td>0</td>\n",
       "      <td>0</td>\n",
       "    </tr>\n",
       "    <tr>\n",
       "      <th>3</th>\n",
       "      <td>Wholesale Trade</td>\n",
       "      <td>Material Moving Workers</td>\n",
       "      <td>10000</td>\n",
       "      <td>20000</td>\n",
       "      <td>30000</td>\n",
       "      <td>40000</td>\n",
       "      <td>50000</td>\n",
       "      <td>0</td>\n",
       "      <td>0</td>\n",
       "      <td>0</td>\n",
       "      <td>...</td>\n",
       "      <td>0</td>\n",
       "      <td>0</td>\n",
       "      <td>1</td>\n",
       "      <td>0</td>\n",
       "      <td>0</td>\n",
       "      <td>0</td>\n",
       "      <td>0</td>\n",
       "      <td>0</td>\n",
       "      <td>0</td>\n",
       "      <td>0</td>\n",
       "    </tr>\n",
       "    <tr>\n",
       "      <th>4</th>\n",
       "      <td>Other Services (except Public Administration)</td>\n",
       "      <td>Supervisors of Building and Grounds Cleaning a...</td>\n",
       "      <td>10000</td>\n",
       "      <td>20000</td>\n",
       "      <td>30000</td>\n",
       "      <td>40000</td>\n",
       "      <td>50000</td>\n",
       "      <td>0</td>\n",
       "      <td>0</td>\n",
       "      <td>0</td>\n",
       "      <td>...</td>\n",
       "      <td>0</td>\n",
       "      <td>0</td>\n",
       "      <td>1</td>\n",
       "      <td>0</td>\n",
       "      <td>0</td>\n",
       "      <td>0</td>\n",
       "      <td>0</td>\n",
       "      <td>0</td>\n",
       "      <td>0</td>\n",
       "      <td>0</td>\n",
       "    </tr>\n",
       "    <tr>\n",
       "      <th>...</th>\n",
       "      <td>...</td>\n",
       "      <td>...</td>\n",
       "      <td>...</td>\n",
       "      <td>...</td>\n",
       "      <td>...</td>\n",
       "      <td>...</td>\n",
       "      <td>...</td>\n",
       "      <td>...</td>\n",
       "      <td>...</td>\n",
       "      <td>...</td>\n",
       "      <td>...</td>\n",
       "      <td>...</td>\n",
       "      <td>...</td>\n",
       "      <td>...</td>\n",
       "      <td>...</td>\n",
       "      <td>...</td>\n",
       "      <td>...</td>\n",
       "      <td>...</td>\n",
       "      <td>...</td>\n",
       "      <td>...</td>\n",
       "      <td>...</td>\n",
       "    </tr>\n",
       "    <tr>\n",
       "      <th>921</th>\n",
       "      <td>Utilities</td>\n",
       "      <td>Other Educational Instruction and Library Occu...</td>\n",
       "      <td>10000</td>\n",
       "      <td>20000</td>\n",
       "      <td>30000</td>\n",
       "      <td>40000</td>\n",
       "      <td>50000</td>\n",
       "      <td>0</td>\n",
       "      <td>0</td>\n",
       "      <td>0</td>\n",
       "      <td>...</td>\n",
       "      <td>0</td>\n",
       "      <td>0</td>\n",
       "      <td>1</td>\n",
       "      <td>0</td>\n",
       "      <td>0</td>\n",
       "      <td>0</td>\n",
       "      <td>0</td>\n",
       "      <td>0</td>\n",
       "      <td>0</td>\n",
       "      <td>0</td>\n",
       "    </tr>\n",
       "    <tr>\n",
       "      <th>922</th>\n",
       "      <td>Arts, Entertainment, and Recreation</td>\n",
       "      <td>Community and Social Service Occupations</td>\n",
       "      <td>10000</td>\n",
       "      <td>20000</td>\n",
       "      <td>30000</td>\n",
       "      <td>40000</td>\n",
       "      <td>50000</td>\n",
       "      <td>0</td>\n",
       "      <td>0</td>\n",
       "      <td>0</td>\n",
       "      <td>...</td>\n",
       "      <td>0</td>\n",
       "      <td>0</td>\n",
       "      <td>1</td>\n",
       "      <td>0</td>\n",
       "      <td>0</td>\n",
       "      <td>0</td>\n",
       "      <td>0</td>\n",
       "      <td>0</td>\n",
       "      <td>0</td>\n",
       "      <td>0</td>\n",
       "    </tr>\n",
       "    <tr>\n",
       "      <th>923</th>\n",
       "      <td>Cross-industry</td>\n",
       "      <td>Arts, Design, Entertainment, Sports, and Media...</td>\n",
       "      <td>10000</td>\n",
       "      <td>20000</td>\n",
       "      <td>30000</td>\n",
       "      <td>40000</td>\n",
       "      <td>50000</td>\n",
       "      <td>0</td>\n",
       "      <td>0</td>\n",
       "      <td>0</td>\n",
       "      <td>...</td>\n",
       "      <td>0</td>\n",
       "      <td>0</td>\n",
       "      <td>0</td>\n",
       "      <td>0</td>\n",
       "      <td>0</td>\n",
       "      <td>0</td>\n",
       "      <td>0</td>\n",
       "      <td>1</td>\n",
       "      <td>0</td>\n",
       "      <td>0</td>\n",
       "    </tr>\n",
       "    <tr>\n",
       "      <th>924</th>\n",
       "      <td>Cross-industry</td>\n",
       "      <td>Computer and Mathematical Occupations</td>\n",
       "      <td>10000</td>\n",
       "      <td>20000</td>\n",
       "      <td>30000</td>\n",
       "      <td>40000</td>\n",
       "      <td>50000</td>\n",
       "      <td>0</td>\n",
       "      <td>0</td>\n",
       "      <td>0</td>\n",
       "      <td>...</td>\n",
       "      <td>0</td>\n",
       "      <td>0</td>\n",
       "      <td>0</td>\n",
       "      <td>0</td>\n",
       "      <td>0</td>\n",
       "      <td>0</td>\n",
       "      <td>0</td>\n",
       "      <td>0</td>\n",
       "      <td>0</td>\n",
       "      <td>0</td>\n",
       "    </tr>\n",
       "    <tr>\n",
       "      <th>925</th>\n",
       "      <td>Construction</td>\n",
       "      <td>Other Protective Service Workers</td>\n",
       "      <td>10000</td>\n",
       "      <td>20000</td>\n",
       "      <td>30000</td>\n",
       "      <td>40000</td>\n",
       "      <td>50000</td>\n",
       "      <td>0</td>\n",
       "      <td>0</td>\n",
       "      <td>0</td>\n",
       "      <td>...</td>\n",
       "      <td>0</td>\n",
       "      <td>0</td>\n",
       "      <td>1</td>\n",
       "      <td>0</td>\n",
       "      <td>0</td>\n",
       "      <td>0</td>\n",
       "      <td>0</td>\n",
       "      <td>0</td>\n",
       "      <td>0</td>\n",
       "      <td>0</td>\n",
       "    </tr>\n",
       "  </tbody>\n",
       "</table>\n",
       "<p>926 rows × 59 columns</p>\n",
       "</div>"
      ],
      "text/plain": [
       "                                       NAICS_TITLE  \\\n",
       "0                  Accommodation and Food Services   \n",
       "1                                   Cross-industry   \n",
       "2                                    Manufacturing   \n",
       "3                                  Wholesale Trade   \n",
       "4    Other Services (except Public Administration)   \n",
       "..                                             ...   \n",
       "921                                      Utilities   \n",
       "922            Arts, Entertainment, and Recreation   \n",
       "923                                 Cross-industry   \n",
       "924                                 Cross-industry   \n",
       "925                                   Construction   \n",
       "\n",
       "                                             OCC_TITLE  A_PCT10  A_PCT25  \\\n",
       "0                         Other Production Occupations    10000    20000   \n",
       "1    Arts, Design, Entertainment, Sports, and Media...    10000    20000   \n",
       "2              Construction and Extraction Occupations    10000    20000   \n",
       "3                              Material Moving Workers    10000    20000   \n",
       "4    Supervisors of Building and Grounds Cleaning a...    10000    20000   \n",
       "..                                                 ...      ...      ...   \n",
       "921  Other Educational Instruction and Library Occu...    10000    20000   \n",
       "922           Community and Social Service Occupations    10000    20000   \n",
       "923  Arts, Design, Entertainment, Sports, and Media...    10000    20000   \n",
       "924              Computer and Mathematical Occupations    10000    20000   \n",
       "925                   Other Protective Service Workers    10000    20000   \n",
       "\n",
       "     A_MEDIAN  A_PCT75  A_PCT90  PRIM_STATE_AK  PRIM_STATE_AL  PRIM_STATE_AR  \\\n",
       "0       30000    40000    50000              0              0              0   \n",
       "1       30000    40000    50000              0              0              0   \n",
       "2       30000    40000    50000              0              0              0   \n",
       "3       30000    40000    50000              0              0              0   \n",
       "4       30000    40000    50000              0              0              0   \n",
       "..        ...      ...      ...            ...            ...            ...   \n",
       "921     30000    40000    50000              0              0              0   \n",
       "922     30000    40000    50000              0              0              0   \n",
       "923     30000    40000    50000              0              0              0   \n",
       "924     30000    40000    50000              0              0              0   \n",
       "925     30000    40000    50000              0              0              0   \n",
       "\n",
       "     ...  PRIM_STATE_TN  PRIM_STATE_TX  PRIM_STATE_US  PRIM_STATE_UT  \\\n",
       "0    ...              0              0              1              0   \n",
       "1    ...              0              0              0              0   \n",
       "2    ...              0              0              1              0   \n",
       "3    ...              0              0              1              0   \n",
       "4    ...              0              0              1              0   \n",
       "..   ...            ...            ...            ...            ...   \n",
       "921  ...              0              0              1              0   \n",
       "922  ...              0              0              1              0   \n",
       "923  ...              0              0              0              0   \n",
       "924  ...              0              0              0              0   \n",
       "925  ...              0              0              1              0   \n",
       "\n",
       "     PRIM_STATE_VA  PRIM_STATE_VT  PRIM_STATE_WA  PRIM_STATE_WI  \\\n",
       "0                0              0              0              0   \n",
       "1                0              0              0              0   \n",
       "2                0              0              0              0   \n",
       "3                0              0              0              0   \n",
       "4                0              0              0              0   \n",
       "..             ...            ...            ...            ...   \n",
       "921              0              0              0              0   \n",
       "922              0              0              0              0   \n",
       "923              0              0              0              1   \n",
       "924              0              0              0              0   \n",
       "925              0              0              0              0   \n",
       "\n",
       "     PRIM_STATE_WV  PRIM_STATE_WY  \n",
       "0                0              0  \n",
       "1                0              0  \n",
       "2                0              0  \n",
       "3                0              0  \n",
       "4                0              0  \n",
       "..             ...            ...  \n",
       "921              0              0  \n",
       "922              0              0  \n",
       "923              0              0  \n",
       "924              0              0  \n",
       "925              0              0  \n",
       "\n",
       "[926 rows x 59 columns]"
      ]
     },
     "execution_count": 133,
     "metadata": {},
     "output_type": "execute_result"
    }
   ],
   "source": [
    "df_sub"
   ]
  },
  {
   "cell_type": "code",
   "execution_count": 134,
   "id": "79e9cc8e-7666-4896-9672-084210ac854a",
   "metadata": {},
   "outputs": [
    {
     "name": "stdout",
     "output_type": "stream",
     "text": [
      "(2297, 65)\n",
      "(2297, 175)\n"
     ]
    },
    {
     "data": {
      "text/html": [
       "<div>\n",
       "<style scoped>\n",
       "    .dataframe tbody tr th:only-of-type {\n",
       "        vertical-align: middle;\n",
       "    }\n",
       "\n",
       "    .dataframe tbody tr th {\n",
       "        vertical-align: top;\n",
       "    }\n",
       "\n",
       "    .dataframe thead th {\n",
       "        text-align: right;\n",
       "    }\n",
       "</style>\n",
       "<table border=\"1\" class=\"dataframe\">\n",
       "  <thead>\n",
       "    <tr style=\"text-align: right;\">\n",
       "      <th></th>\n",
       "      <th>word1</th>\n",
       "      <th>word2</th>\n",
       "      <th>word3</th>\n",
       "      <th>word4</th>\n",
       "      <th>word5</th>\n",
       "      <th>word6</th>\n",
       "      <th>word7</th>\n",
       "      <th>word8</th>\n",
       "      <th>word9</th>\n",
       "      <th>word10</th>\n",
       "      <th>...</th>\n",
       "      <th>PRIM_STATE_VT</th>\n",
       "      <th>PRIM_STATE_WA</th>\n",
       "      <th>PRIM_STATE_WI</th>\n",
       "      <th>PRIM_STATE_WV</th>\n",
       "      <th>PRIM_STATE_WY</th>\n",
       "      <th>A_PCT10</th>\n",
       "      <th>A_PCT25</th>\n",
       "      <th>A_MEDIAN</th>\n",
       "      <th>A_PCT75</th>\n",
       "      <th>A_PCT90</th>\n",
       "    </tr>\n",
       "  </thead>\n",
       "  <tbody>\n",
       "    <tr>\n",
       "      <th>0</th>\n",
       "      <td>0.622086</td>\n",
       "      <td>0.000000</td>\n",
       "      <td>0.0</td>\n",
       "      <td>0.0</td>\n",
       "      <td>0.279562</td>\n",
       "      <td>0.000000</td>\n",
       "      <td>0.0</td>\n",
       "      <td>0.0</td>\n",
       "      <td>0.0</td>\n",
       "      <td>0.0</td>\n",
       "      <td>...</td>\n",
       "      <td>0</td>\n",
       "      <td>0</td>\n",
       "      <td>0</td>\n",
       "      <td>0</td>\n",
       "      <td>0</td>\n",
       "      <td>10000</td>\n",
       "      <td>20000</td>\n",
       "      <td>30000</td>\n",
       "      <td>40000</td>\n",
       "      <td>50000</td>\n",
       "    </tr>\n",
       "    <tr>\n",
       "      <th>1</th>\n",
       "      <td>0.000000</td>\n",
       "      <td>0.000000</td>\n",
       "      <td>0.0</td>\n",
       "      <td>0.0</td>\n",
       "      <td>0.000000</td>\n",
       "      <td>0.000000</td>\n",
       "      <td>0.0</td>\n",
       "      <td>0.0</td>\n",
       "      <td>0.0</td>\n",
       "      <td>0.0</td>\n",
       "      <td>...</td>\n",
       "      <td>0</td>\n",
       "      <td>0</td>\n",
       "      <td>0</td>\n",
       "      <td>0</td>\n",
       "      <td>0</td>\n",
       "      <td>10000</td>\n",
       "      <td>20000</td>\n",
       "      <td>30000</td>\n",
       "      <td>40000</td>\n",
       "      <td>50000</td>\n",
       "    </tr>\n",
       "    <tr>\n",
       "      <th>2</th>\n",
       "      <td>0.000000</td>\n",
       "      <td>0.000000</td>\n",
       "      <td>0.0</td>\n",
       "      <td>0.0</td>\n",
       "      <td>0.000000</td>\n",
       "      <td>0.000000</td>\n",
       "      <td>0.0</td>\n",
       "      <td>0.0</td>\n",
       "      <td>0.0</td>\n",
       "      <td>0.0</td>\n",
       "      <td>...</td>\n",
       "      <td>0</td>\n",
       "      <td>0</td>\n",
       "      <td>0</td>\n",
       "      <td>0</td>\n",
       "      <td>0</td>\n",
       "      <td>10000</td>\n",
       "      <td>20000</td>\n",
       "      <td>30000</td>\n",
       "      <td>40000</td>\n",
       "      <td>50000</td>\n",
       "    </tr>\n",
       "    <tr>\n",
       "      <th>3</th>\n",
       "      <td>0.000000</td>\n",
       "      <td>0.000000</td>\n",
       "      <td>0.0</td>\n",
       "      <td>0.0</td>\n",
       "      <td>0.000000</td>\n",
       "      <td>0.000000</td>\n",
       "      <td>0.0</td>\n",
       "      <td>0.0</td>\n",
       "      <td>0.0</td>\n",
       "      <td>0.0</td>\n",
       "      <td>...</td>\n",
       "      <td>0</td>\n",
       "      <td>0</td>\n",
       "      <td>0</td>\n",
       "      <td>0</td>\n",
       "      <td>0</td>\n",
       "      <td>10000</td>\n",
       "      <td>20000</td>\n",
       "      <td>30000</td>\n",
       "      <td>40000</td>\n",
       "      <td>50000</td>\n",
       "    </tr>\n",
       "    <tr>\n",
       "      <th>4</th>\n",
       "      <td>0.000000</td>\n",
       "      <td>0.475669</td>\n",
       "      <td>0.0</td>\n",
       "      <td>0.0</td>\n",
       "      <td>0.000000</td>\n",
       "      <td>0.000000</td>\n",
       "      <td>0.0</td>\n",
       "      <td>0.0</td>\n",
       "      <td>0.0</td>\n",
       "      <td>0.0</td>\n",
       "      <td>...</td>\n",
       "      <td>0</td>\n",
       "      <td>0</td>\n",
       "      <td>0</td>\n",
       "      <td>0</td>\n",
       "      <td>0</td>\n",
       "      <td>10000</td>\n",
       "      <td>20000</td>\n",
       "      <td>30000</td>\n",
       "      <td>40000</td>\n",
       "      <td>50000</td>\n",
       "    </tr>\n",
       "    <tr>\n",
       "      <th>...</th>\n",
       "      <td>...</td>\n",
       "      <td>...</td>\n",
       "      <td>...</td>\n",
       "      <td>...</td>\n",
       "      <td>...</td>\n",
       "      <td>...</td>\n",
       "      <td>...</td>\n",
       "      <td>...</td>\n",
       "      <td>...</td>\n",
       "      <td>...</td>\n",
       "      <td>...</td>\n",
       "      <td>...</td>\n",
       "      <td>...</td>\n",
       "      <td>...</td>\n",
       "      <td>...</td>\n",
       "      <td>...</td>\n",
       "      <td>...</td>\n",
       "      <td>...</td>\n",
       "      <td>...</td>\n",
       "      <td>...</td>\n",
       "      <td>...</td>\n",
       "    </tr>\n",
       "    <tr>\n",
       "      <th>921</th>\n",
       "      <td>0.000000</td>\n",
       "      <td>0.000000</td>\n",
       "      <td>0.0</td>\n",
       "      <td>0.0</td>\n",
       "      <td>0.000000</td>\n",
       "      <td>0.000000</td>\n",
       "      <td>0.0</td>\n",
       "      <td>0.0</td>\n",
       "      <td>0.0</td>\n",
       "      <td>0.0</td>\n",
       "      <td>...</td>\n",
       "      <td>0</td>\n",
       "      <td>0</td>\n",
       "      <td>0</td>\n",
       "      <td>0</td>\n",
       "      <td>0</td>\n",
       "      <td>10000</td>\n",
       "      <td>20000</td>\n",
       "      <td>30000</td>\n",
       "      <td>40000</td>\n",
       "      <td>50000</td>\n",
       "    </tr>\n",
       "    <tr>\n",
       "      <th>922</th>\n",
       "      <td>0.000000</td>\n",
       "      <td>0.000000</td>\n",
       "      <td>0.0</td>\n",
       "      <td>0.0</td>\n",
       "      <td>0.256234</td>\n",
       "      <td>0.558075</td>\n",
       "      <td>0.0</td>\n",
       "      <td>0.0</td>\n",
       "      <td>0.0</td>\n",
       "      <td>0.0</td>\n",
       "      <td>...</td>\n",
       "      <td>0</td>\n",
       "      <td>0</td>\n",
       "      <td>0</td>\n",
       "      <td>0</td>\n",
       "      <td>0</td>\n",
       "      <td>10000</td>\n",
       "      <td>20000</td>\n",
       "      <td>30000</td>\n",
       "      <td>40000</td>\n",
       "      <td>50000</td>\n",
       "    </tr>\n",
       "    <tr>\n",
       "      <th>923</th>\n",
       "      <td>0.000000</td>\n",
       "      <td>0.000000</td>\n",
       "      <td>0.0</td>\n",
       "      <td>0.0</td>\n",
       "      <td>0.000000</td>\n",
       "      <td>0.000000</td>\n",
       "      <td>0.0</td>\n",
       "      <td>0.0</td>\n",
       "      <td>0.0</td>\n",
       "      <td>0.0</td>\n",
       "      <td>...</td>\n",
       "      <td>0</td>\n",
       "      <td>0</td>\n",
       "      <td>1</td>\n",
       "      <td>0</td>\n",
       "      <td>0</td>\n",
       "      <td>10000</td>\n",
       "      <td>20000</td>\n",
       "      <td>30000</td>\n",
       "      <td>40000</td>\n",
       "      <td>50000</td>\n",
       "    </tr>\n",
       "    <tr>\n",
       "      <th>924</th>\n",
       "      <td>0.000000</td>\n",
       "      <td>0.000000</td>\n",
       "      <td>0.0</td>\n",
       "      <td>0.0</td>\n",
       "      <td>0.000000</td>\n",
       "      <td>0.000000</td>\n",
       "      <td>0.0</td>\n",
       "      <td>0.0</td>\n",
       "      <td>0.0</td>\n",
       "      <td>0.0</td>\n",
       "      <td>...</td>\n",
       "      <td>0</td>\n",
       "      <td>0</td>\n",
       "      <td>0</td>\n",
       "      <td>0</td>\n",
       "      <td>0</td>\n",
       "      <td>10000</td>\n",
       "      <td>20000</td>\n",
       "      <td>30000</td>\n",
       "      <td>40000</td>\n",
       "      <td>50000</td>\n",
       "    </tr>\n",
       "    <tr>\n",
       "      <th>925</th>\n",
       "      <td>0.000000</td>\n",
       "      <td>0.000000</td>\n",
       "      <td>0.0</td>\n",
       "      <td>0.0</td>\n",
       "      <td>0.000000</td>\n",
       "      <td>0.000000</td>\n",
       "      <td>0.0</td>\n",
       "      <td>0.0</td>\n",
       "      <td>0.0</td>\n",
       "      <td>1.0</td>\n",
       "      <td>...</td>\n",
       "      <td>0</td>\n",
       "      <td>0</td>\n",
       "      <td>0</td>\n",
       "      <td>0</td>\n",
       "      <td>0</td>\n",
       "      <td>10000</td>\n",
       "      <td>20000</td>\n",
       "      <td>30000</td>\n",
       "      <td>40000</td>\n",
       "      <td>50000</td>\n",
       "    </tr>\n",
       "  </tbody>\n",
       "</table>\n",
       "<p>926 rows × 297 columns</p>\n",
       "</div>"
      ],
      "text/plain": [
       "        word1     word2  word3  word4     word5     word6  word7  word8  \\\n",
       "0    0.622086  0.000000    0.0    0.0  0.279562  0.000000    0.0    0.0   \n",
       "1    0.000000  0.000000    0.0    0.0  0.000000  0.000000    0.0    0.0   \n",
       "2    0.000000  0.000000    0.0    0.0  0.000000  0.000000    0.0    0.0   \n",
       "3    0.000000  0.000000    0.0    0.0  0.000000  0.000000    0.0    0.0   \n",
       "4    0.000000  0.475669    0.0    0.0  0.000000  0.000000    0.0    0.0   \n",
       "..        ...       ...    ...    ...       ...       ...    ...    ...   \n",
       "921  0.000000  0.000000    0.0    0.0  0.000000  0.000000    0.0    0.0   \n",
       "922  0.000000  0.000000    0.0    0.0  0.256234  0.558075    0.0    0.0   \n",
       "923  0.000000  0.000000    0.0    0.0  0.000000  0.000000    0.0    0.0   \n",
       "924  0.000000  0.000000    0.0    0.0  0.000000  0.000000    0.0    0.0   \n",
       "925  0.000000  0.000000    0.0    0.0  0.000000  0.000000    0.0    0.0   \n",
       "\n",
       "     word9  word10  ...  PRIM_STATE_VT  PRIM_STATE_WA  PRIM_STATE_WI  \\\n",
       "0      0.0     0.0  ...              0              0              0   \n",
       "1      0.0     0.0  ...              0              0              0   \n",
       "2      0.0     0.0  ...              0              0              0   \n",
       "3      0.0     0.0  ...              0              0              0   \n",
       "4      0.0     0.0  ...              0              0              0   \n",
       "..     ...     ...  ...            ...            ...            ...   \n",
       "921    0.0     0.0  ...              0              0              0   \n",
       "922    0.0     0.0  ...              0              0              0   \n",
       "923    0.0     0.0  ...              0              0              1   \n",
       "924    0.0     0.0  ...              0              0              0   \n",
       "925    0.0     1.0  ...              0              0              0   \n",
       "\n",
       "     PRIM_STATE_WV  PRIM_STATE_WY  A_PCT10  A_PCT25  A_MEDIAN  A_PCT75  \\\n",
       "0                0              0    10000    20000     30000    40000   \n",
       "1                0              0    10000    20000     30000    40000   \n",
       "2                0              0    10000    20000     30000    40000   \n",
       "3                0              0    10000    20000     30000    40000   \n",
       "4                0              0    10000    20000     30000    40000   \n",
       "..             ...            ...      ...      ...       ...      ...   \n",
       "921              0              0    10000    20000     30000    40000   \n",
       "922              0              0    10000    20000     30000    40000   \n",
       "923              0              0    10000    20000     30000    40000   \n",
       "924              0              0    10000    20000     30000    40000   \n",
       "925              0              0    10000    20000     30000    40000   \n",
       "\n",
       "     A_PCT90  \n",
       "0      50000  \n",
       "1      50000  \n",
       "2      50000  \n",
       "3      50000  \n",
       "4      50000  \n",
       "..       ...  \n",
       "921    50000  \n",
       "922    50000  \n",
       "923    50000  \n",
       "924    50000  \n",
       "925    50000  \n",
       "\n",
       "[926 rows x 297 columns]"
      ]
     },
     "execution_count": 134,
     "metadata": {},
     "output_type": "execute_result"
    }
   ],
   "source": [
    "res_tf_idf1 = tf_idf_vect1.transform(df_sub[\"NAICS_TITLE\"])\n",
    "print(tf_idf1.shape)\n",
    "\n",
    "res_tf_idf2 = tf_idf_vect2.transform(df_sub[\"OCC_TITLE\"])\n",
    "print(tf_idf2.shape)\n",
    "\n",
    "res_array1 = res_tf_idf1.toarray()\n",
    "res_array2 = res_tf_idf2.toarray()\n",
    "df1_res = pd.DataFrame(res_array1)\n",
    "df2_res = pd.DataFrame(res_array2)\n",
    "\n",
    "df1_res.columns = ['word1','word2','word3','word4','word5','word6','word7','word8','word9','word10','word11','word12','word13','word14','word15','word16','word17','word18','word19','word20','word21','word22','word23','word24','word25','word26','word27','word28','word29','word30','word31','word32','word33','word34','word35','word36','word37','word38','word39','word40','word41','word42','word43','word44','word45','word46','word47','word48','word49','word50','word51','word52','word53','word54','word55','word56','word57','word58','word59','word60','word61','word62','word63','word64','word65']\n",
    "df2_res.columns = ['word66','word67','word68','word69','word70','word71','word72','word73','word74','word75','word76','word77','word78','word79','word80','word81','word82','word83','word84','word85','word86','word87','word88','word89','word90','word91','word92','word93','word94','word95','word96','word97','word98','word99','word100','word101','word102','word103','word104','word105','word106','word107','word108','word109','word110','word111','word112','word113','word114','word115','word116','word117','word118','word119','word120','word121','word122','word123','word124','word125','word126','word127','word128','word129','word130','word131','word132','word133','word134','word135','word136','word137','word138','word139','word140','word141','word142','word143','word144','word145','word146','word147','word148','word149','word150','word151','word152','word153','word154','word155','word156','word157','word158','word159','word160','word161','word162','word163','word164','word165','word166','word167','word168','word169','word170','word171','word172','word173','word174','word175','word176','word177','word178','word179','word180','word181','word182','word183','word184','word185','word186','word187','word188','word189','word190','word191','word192','word193','word194','word195','word196','word197','word198','word199','word200','word201','word202','word203','word204','word205','word206','word207','word208','word209','word210','word211','word212','word213','word214','word215','word216','word217','word218','word219','word220','word221','word222','word223','word224','word225','word226','word227','word228','word229','word230','word231','word232','word233','word234','word235','word236','word237','word238', 'word239', 'word240']\n",
    "\n",
    "data = pd.DataFrame()\n",
    "data[\"A_PCT10\"] = df_sub[\"A_PCT10\"]\n",
    "data[\"A_PCT25\"] = df_sub[\"A_PCT25\"]\n",
    "data[\"A_MEDIAN\"] = df_sub[\"A_MEDIAN\"]\n",
    "data[\"A_PCT75\"] = df_sub[\"A_PCT75\"]\n",
    "data[\"A_PCT90\"] = df_sub[\"A_PCT90\"]\n",
    "\n",
    "df_sub = df_sub.drop(['A_PCT10','A_PCT25','A_MEDIAN', 'A_PCT75', 'A_PCT90','NAICS_TITLE','OCC_TITLE'],axis=1)\n",
    "\n",
    "dfp = pd.DataFrame()\n",
    "dfp = pd.concat([df1_res,df2_res,df_sub,data],axis=1)\n",
    "dfp"
   ]
  },
  {
   "cell_type": "code",
   "execution_count": 135,
   "id": "f3615905-eee1-4442-b4ce-4fefd62ada73",
   "metadata": {},
   "outputs": [],
   "source": [
    "X = dfp.iloc[:, :-5].values\n",
    "y = dfp.iloc[:, -5:].values"
   ]
  },
  {
   "cell_type": "code",
   "execution_count": 136,
   "id": "61174116-5865-4b3e-a9dc-410affb95b45",
   "metadata": {},
   "outputs": [],
   "source": [
    "X_test2= X[-926:]"
   ]
  },
  {
   "cell_type": "code",
   "execution_count": 137,
   "id": "c636c665-ee9b-4c5a-b184-39956e390c18",
   "metadata": {},
   "outputs": [],
   "source": [
    "sub_pred = regr.predict(X_test2)"
   ]
  },
  {
   "cell_type": "code",
   "execution_count": 138,
   "id": "16bba6c9-6e12-47e4-a612-89a42a0f18bc",
   "metadata": {},
   "outputs": [
    {
     "data": {
      "text/plain": [
       "array([[10.01719164, 10.1710846 , 10.39610684, 10.63587559, 10.85717754],\n",
       "       [10.20874763, 10.49179315, 10.77985176, 11.11314609, 11.48592377],\n",
       "       [10.4847297 , 10.68800702, 10.96204421, 11.20059906, 11.40845354],\n",
       "       ...,\n",
       "       [10.20416226, 10.47943442, 10.80310524, 11.15872159, 11.51838759],\n",
       "       [10.63621025, 10.89799373, 11.31674345, 11.63808384, 11.86624271],\n",
       "       [10.23429132, 10.42505223, 10.68198114, 10.91963966, 11.12413511]])"
      ]
     },
     "execution_count": 138,
     "metadata": {},
     "output_type": "execute_result"
    }
   ],
   "source": [
    "sub_pred"
   ]
  },
  {
   "cell_type": "code",
   "execution_count": 139,
   "id": "6d107ddc-0bc6-472d-8b69-5e9ffd96a162",
   "metadata": {},
   "outputs": [],
   "source": [
    "sub_prediction = pd.DataFrame(sub_pred)"
   ]
  },
  {
   "cell_type": "code",
   "execution_count": 140,
   "id": "d99727f4-b10e-4323-a7bf-fc9ba32a4ea1",
   "metadata": {},
   "outputs": [],
   "source": [
    "sub_prediction.to_csv('submission_R.csv', index=False)"
   ]
  },
  {
   "cell_type": "code",
   "execution_count": null,
   "id": "73fab182-9cda-439f-af7e-3c6d23dfd927",
   "metadata": {},
   "outputs": [],
   "source": []
  },
  {
   "cell_type": "code",
   "execution_count": null,
   "id": "497c2b86",
   "metadata": {},
   "outputs": [],
   "source": []
  },
  {
   "cell_type": "code",
   "execution_count": null,
   "id": "d4a4882f",
   "metadata": {},
   "outputs": [],
   "source": []
  },
  {
   "cell_type": "code",
   "execution_count": null,
   "id": "d786a827",
   "metadata": {},
   "outputs": [],
   "source": []
  }
 ],
 "metadata": {
  "kernelspec": {
   "display_name": "Python 3 (ipykernel)",
   "language": "python",
   "name": "python3"
  },
  "language_info": {
   "codemirror_mode": {
    "name": "ipython",
    "version": 3
   },
   "file_extension": ".py",
   "mimetype": "text/x-python",
   "name": "python",
   "nbconvert_exporter": "python",
   "pygments_lexer": "ipython3",
   "version": "3.9.5"
  },
  "vscode": {
   "interpreter": {
    "hash": "a5763a05688f6dd6ed006fd9e648964796fd0ebd56aae20ebaa45227937e656d"
   }
  }
 },
 "nbformat": 4,
 "nbformat_minor": 5
}
